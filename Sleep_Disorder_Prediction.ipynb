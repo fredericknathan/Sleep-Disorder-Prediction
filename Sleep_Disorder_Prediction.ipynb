{
  "nbformat": 4,
  "nbformat_minor": 0,
  "metadata": {
    "colab": {
      "provenance": [],
      "toc_visible": true
    },
    "kernelspec": {
      "name": "python3",
      "display_name": "Python 3"
    },
    "language_info": {
      "name": "python"
    }
  },
  "cells": [
    {
      "cell_type": "markdown",
      "source": [
        "# Import"
      ],
      "metadata": {
        "id": "X4eLT0WswtVD"
      }
    },
    {
      "cell_type": "code",
      "source": [
        "import pandas as pd\n",
        "from sklearn.preprocessing import LabelEncoder\n",
        "import matplotlib.pyplot as plt\n",
        "import seaborn as sns\n",
        "\n",
        "from sklearn.model_selection import GridSearchCV\n",
        "from sklearn.model_selection import train_test_split\n",
        "from sklearn import metrics\n",
        "from sklearn.metrics import accuracy_score, recall_score, f1_score\n",
        "import warnings\n",
        "from sklearn.metrics import confusion_matrix\n",
        "\n",
        "from sklearn.ensemble import RandomForestClassifier\n",
        "from sklearn.tree import DecisionTreeClassifier\n",
        "from sklearn.ensemble import GradientBoostingClassifier\n",
        "from sklearn.svm import SVC\n",
        "from sklearn.neighbors import KNeighborsClassifier\n",
        "from sklearn.naive_bayes import GaussianNB\n",
        "import xgboost as xgb\n",
        "import lightgbm as lgb\n",
        "from sklearn.linear_model import LogisticRegression\n",
        "from sklearn.ensemble import AdaBoostClassifier"
      ],
      "metadata": {
        "id": "5V3_E9ccZY9j"
      },
      "execution_count": null,
      "outputs": []
    },
    {
      "cell_type": "code",
      "source": [
        "!mkdir ~/.kaggle\n",
        "!cp kaggle.json ~/.kaggle/\n",
        "!chmod 600 ~/.kaggle/kaggle.json\n",
        "!kaggle datasets download -d uom190346a/sleep-health-and-lifestyle-dataset\n",
        "!unzip sleep-health-and-lifestyle-dataset.zip"
      ],
      "metadata": {
        "colab": {
          "base_uri": "https://localhost:8080/"
        },
        "id": "hymlHRrsX-Fc",
        "outputId": "a7fea47d-3c0e-4487-ac8c-f16e507385ea"
      },
      "execution_count": null,
      "outputs": [
        {
          "output_type": "stream",
          "name": "stdout",
          "text": [
            "mkdir: cannot create directory ‘/root/.kaggle’: File exists\n",
            "sleep-health-and-lifestyle-dataset.zip: Skipping, found more recently modified local copy (use --force to force download)\n",
            "Archive:  sleep-health-and-lifestyle-dataset.zip\n",
            "replace Sleep_health_and_lifestyle_dataset.csv? [y]es, [n]o, [A]ll, [N]one, [r]ename: n\n"
          ]
        }
      ]
    },
    {
      "cell_type": "markdown",
      "source": [
        "# Data Visualization"
      ],
      "metadata": {
        "id": "DaVsPwkow0Ab"
      }
    },
    {
      "cell_type": "markdown",
      "source": [
        "## Dataset"
      ],
      "metadata": {
        "id": "v4S0nrJaxMZ_"
      }
    },
    {
      "cell_type": "code",
      "source": [
        "df = pd.read_csv(\"/content/Sleep_health_and_lifestyle_dataset.csv\")\n",
        "df = df.drop('Person ID', axis=1)"
      ],
      "metadata": {
        "id": "AVoF3lnJZXzO"
      },
      "execution_count": null,
      "outputs": []
    },
    {
      "cell_type": "code",
      "source": [
        "df"
      ],
      "metadata": {
        "colab": {
          "base_uri": "https://localhost:8080/",
          "height": 641
        },
        "id": "2V_rxSrosU_d",
        "outputId": "d7932001-15d1-4fe0-ec44-6e2c90458cfe"
      },
      "execution_count": null,
      "outputs": [
        {
          "output_type": "execute_result",
          "data": {
            "text/plain": [
              "     Gender  Age            Occupation  Sleep Duration  Quality of Sleep  \\\n",
              "0      Male   27     Software Engineer             6.1                 6   \n",
              "1      Male   28                Doctor             6.2                 6   \n",
              "2      Male   28                Doctor             6.2                 6   \n",
              "3      Male   28  Sales Representative             5.9                 4   \n",
              "4      Male   28  Sales Representative             5.9                 4   \n",
              "..      ...  ...                   ...             ...               ...   \n",
              "369  Female   59                 Nurse             8.1                 9   \n",
              "370  Female   59                 Nurse             8.0                 9   \n",
              "371  Female   59                 Nurse             8.1                 9   \n",
              "372  Female   59                 Nurse             8.1                 9   \n",
              "373  Female   59                 Nurse             8.1                 9   \n",
              "\n",
              "     Physical Activity Level  Stress Level BMI Category Blood Pressure  \\\n",
              "0                         42             6   Overweight         126/83   \n",
              "1                         60             8       Normal         125/80   \n",
              "2                         60             8       Normal         125/80   \n",
              "3                         30             8        Obese         140/90   \n",
              "4                         30             8        Obese         140/90   \n",
              "..                       ...           ...          ...            ...   \n",
              "369                       75             3   Overweight         140/95   \n",
              "370                       75             3   Overweight         140/95   \n",
              "371                       75             3   Overweight         140/95   \n",
              "372                       75             3   Overweight         140/95   \n",
              "373                       75             3   Overweight         140/95   \n",
              "\n",
              "     Heart Rate  Daily Steps Sleep Disorder  \n",
              "0            77         4200           None  \n",
              "1            75        10000           None  \n",
              "2            75        10000           None  \n",
              "3            85         3000    Sleep Apnea  \n",
              "4            85         3000    Sleep Apnea  \n",
              "..          ...          ...            ...  \n",
              "369          68         7000    Sleep Apnea  \n",
              "370          68         7000    Sleep Apnea  \n",
              "371          68         7000    Sleep Apnea  \n",
              "372          68         7000    Sleep Apnea  \n",
              "373          68         7000    Sleep Apnea  \n",
              "\n",
              "[374 rows x 12 columns]"
            ],
            "text/html": [
              "\n",
              "  <div id=\"df-53982a54-4649-450f-bd2a-e0883f51f0aa\">\n",
              "    <div class=\"colab-df-container\">\n",
              "      <div>\n",
              "<style scoped>\n",
              "    .dataframe tbody tr th:only-of-type {\n",
              "        vertical-align: middle;\n",
              "    }\n",
              "\n",
              "    .dataframe tbody tr th {\n",
              "        vertical-align: top;\n",
              "    }\n",
              "\n",
              "    .dataframe thead th {\n",
              "        text-align: right;\n",
              "    }\n",
              "</style>\n",
              "<table border=\"1\" class=\"dataframe\">\n",
              "  <thead>\n",
              "    <tr style=\"text-align: right;\">\n",
              "      <th></th>\n",
              "      <th>Gender</th>\n",
              "      <th>Age</th>\n",
              "      <th>Occupation</th>\n",
              "      <th>Sleep Duration</th>\n",
              "      <th>Quality of Sleep</th>\n",
              "      <th>Physical Activity Level</th>\n",
              "      <th>Stress Level</th>\n",
              "      <th>BMI Category</th>\n",
              "      <th>Blood Pressure</th>\n",
              "      <th>Heart Rate</th>\n",
              "      <th>Daily Steps</th>\n",
              "      <th>Sleep Disorder</th>\n",
              "    </tr>\n",
              "  </thead>\n",
              "  <tbody>\n",
              "    <tr>\n",
              "      <th>0</th>\n",
              "      <td>Male</td>\n",
              "      <td>27</td>\n",
              "      <td>Software Engineer</td>\n",
              "      <td>6.1</td>\n",
              "      <td>6</td>\n",
              "      <td>42</td>\n",
              "      <td>6</td>\n",
              "      <td>Overweight</td>\n",
              "      <td>126/83</td>\n",
              "      <td>77</td>\n",
              "      <td>4200</td>\n",
              "      <td>None</td>\n",
              "    </tr>\n",
              "    <tr>\n",
              "      <th>1</th>\n",
              "      <td>Male</td>\n",
              "      <td>28</td>\n",
              "      <td>Doctor</td>\n",
              "      <td>6.2</td>\n",
              "      <td>6</td>\n",
              "      <td>60</td>\n",
              "      <td>8</td>\n",
              "      <td>Normal</td>\n",
              "      <td>125/80</td>\n",
              "      <td>75</td>\n",
              "      <td>10000</td>\n",
              "      <td>None</td>\n",
              "    </tr>\n",
              "    <tr>\n",
              "      <th>2</th>\n",
              "      <td>Male</td>\n",
              "      <td>28</td>\n",
              "      <td>Doctor</td>\n",
              "      <td>6.2</td>\n",
              "      <td>6</td>\n",
              "      <td>60</td>\n",
              "      <td>8</td>\n",
              "      <td>Normal</td>\n",
              "      <td>125/80</td>\n",
              "      <td>75</td>\n",
              "      <td>10000</td>\n",
              "      <td>None</td>\n",
              "    </tr>\n",
              "    <tr>\n",
              "      <th>3</th>\n",
              "      <td>Male</td>\n",
              "      <td>28</td>\n",
              "      <td>Sales Representative</td>\n",
              "      <td>5.9</td>\n",
              "      <td>4</td>\n",
              "      <td>30</td>\n",
              "      <td>8</td>\n",
              "      <td>Obese</td>\n",
              "      <td>140/90</td>\n",
              "      <td>85</td>\n",
              "      <td>3000</td>\n",
              "      <td>Sleep Apnea</td>\n",
              "    </tr>\n",
              "    <tr>\n",
              "      <th>4</th>\n",
              "      <td>Male</td>\n",
              "      <td>28</td>\n",
              "      <td>Sales Representative</td>\n",
              "      <td>5.9</td>\n",
              "      <td>4</td>\n",
              "      <td>30</td>\n",
              "      <td>8</td>\n",
              "      <td>Obese</td>\n",
              "      <td>140/90</td>\n",
              "      <td>85</td>\n",
              "      <td>3000</td>\n",
              "      <td>Sleep Apnea</td>\n",
              "    </tr>\n",
              "    <tr>\n",
              "      <th>...</th>\n",
              "      <td>...</td>\n",
              "      <td>...</td>\n",
              "      <td>...</td>\n",
              "      <td>...</td>\n",
              "      <td>...</td>\n",
              "      <td>...</td>\n",
              "      <td>...</td>\n",
              "      <td>...</td>\n",
              "      <td>...</td>\n",
              "      <td>...</td>\n",
              "      <td>...</td>\n",
              "      <td>...</td>\n",
              "    </tr>\n",
              "    <tr>\n",
              "      <th>369</th>\n",
              "      <td>Female</td>\n",
              "      <td>59</td>\n",
              "      <td>Nurse</td>\n",
              "      <td>8.1</td>\n",
              "      <td>9</td>\n",
              "      <td>75</td>\n",
              "      <td>3</td>\n",
              "      <td>Overweight</td>\n",
              "      <td>140/95</td>\n",
              "      <td>68</td>\n",
              "      <td>7000</td>\n",
              "      <td>Sleep Apnea</td>\n",
              "    </tr>\n",
              "    <tr>\n",
              "      <th>370</th>\n",
              "      <td>Female</td>\n",
              "      <td>59</td>\n",
              "      <td>Nurse</td>\n",
              "      <td>8.0</td>\n",
              "      <td>9</td>\n",
              "      <td>75</td>\n",
              "      <td>3</td>\n",
              "      <td>Overweight</td>\n",
              "      <td>140/95</td>\n",
              "      <td>68</td>\n",
              "      <td>7000</td>\n",
              "      <td>Sleep Apnea</td>\n",
              "    </tr>\n",
              "    <tr>\n",
              "      <th>371</th>\n",
              "      <td>Female</td>\n",
              "      <td>59</td>\n",
              "      <td>Nurse</td>\n",
              "      <td>8.1</td>\n",
              "      <td>9</td>\n",
              "      <td>75</td>\n",
              "      <td>3</td>\n",
              "      <td>Overweight</td>\n",
              "      <td>140/95</td>\n",
              "      <td>68</td>\n",
              "      <td>7000</td>\n",
              "      <td>Sleep Apnea</td>\n",
              "    </tr>\n",
              "    <tr>\n",
              "      <th>372</th>\n",
              "      <td>Female</td>\n",
              "      <td>59</td>\n",
              "      <td>Nurse</td>\n",
              "      <td>8.1</td>\n",
              "      <td>9</td>\n",
              "      <td>75</td>\n",
              "      <td>3</td>\n",
              "      <td>Overweight</td>\n",
              "      <td>140/95</td>\n",
              "      <td>68</td>\n",
              "      <td>7000</td>\n",
              "      <td>Sleep Apnea</td>\n",
              "    </tr>\n",
              "    <tr>\n",
              "      <th>373</th>\n",
              "      <td>Female</td>\n",
              "      <td>59</td>\n",
              "      <td>Nurse</td>\n",
              "      <td>8.1</td>\n",
              "      <td>9</td>\n",
              "      <td>75</td>\n",
              "      <td>3</td>\n",
              "      <td>Overweight</td>\n",
              "      <td>140/95</td>\n",
              "      <td>68</td>\n",
              "      <td>7000</td>\n",
              "      <td>Sleep Apnea</td>\n",
              "    </tr>\n",
              "  </tbody>\n",
              "</table>\n",
              "<p>374 rows × 12 columns</p>\n",
              "</div>\n",
              "      <button class=\"colab-df-convert\" onclick=\"convertToInteractive('df-53982a54-4649-450f-bd2a-e0883f51f0aa')\"\n",
              "              title=\"Convert this dataframe to an interactive table.\"\n",
              "              style=\"display:none;\">\n",
              "        \n",
              "  <svg xmlns=\"http://www.w3.org/2000/svg\" height=\"24px\"viewBox=\"0 0 24 24\"\n",
              "       width=\"24px\">\n",
              "    <path d=\"M0 0h24v24H0V0z\" fill=\"none\"/>\n",
              "    <path d=\"M18.56 5.44l.94 2.06.94-2.06 2.06-.94-2.06-.94-.94-2.06-.94 2.06-2.06.94zm-11 1L8.5 8.5l.94-2.06 2.06-.94-2.06-.94L8.5 2.5l-.94 2.06-2.06.94zm10 10l.94 2.06.94-2.06 2.06-.94-2.06-.94-.94-2.06-.94 2.06-2.06.94z\"/><path d=\"M17.41 7.96l-1.37-1.37c-.4-.4-.92-.59-1.43-.59-.52 0-1.04.2-1.43.59L10.3 9.45l-7.72 7.72c-.78.78-.78 2.05 0 2.83L4 21.41c.39.39.9.59 1.41.59.51 0 1.02-.2 1.41-.59l7.78-7.78 2.81-2.81c.8-.78.8-2.07 0-2.86zM5.41 20L4 18.59l7.72-7.72 1.47 1.35L5.41 20z\"/>\n",
              "  </svg>\n",
              "      </button>\n",
              "      \n",
              "  <style>\n",
              "    .colab-df-container {\n",
              "      display:flex;\n",
              "      flex-wrap:wrap;\n",
              "      gap: 12px;\n",
              "    }\n",
              "\n",
              "    .colab-df-convert {\n",
              "      background-color: #E8F0FE;\n",
              "      border: none;\n",
              "      border-radius: 50%;\n",
              "      cursor: pointer;\n",
              "      display: none;\n",
              "      fill: #1967D2;\n",
              "      height: 32px;\n",
              "      padding: 0 0 0 0;\n",
              "      width: 32px;\n",
              "    }\n",
              "\n",
              "    .colab-df-convert:hover {\n",
              "      background-color: #E2EBFA;\n",
              "      box-shadow: 0px 1px 2px rgba(60, 64, 67, 0.3), 0px 1px 3px 1px rgba(60, 64, 67, 0.15);\n",
              "      fill: #174EA6;\n",
              "    }\n",
              "\n",
              "    [theme=dark] .colab-df-convert {\n",
              "      background-color: #3B4455;\n",
              "      fill: #D2E3FC;\n",
              "    }\n",
              "\n",
              "    [theme=dark] .colab-df-convert:hover {\n",
              "      background-color: #434B5C;\n",
              "      box-shadow: 0px 1px 3px 1px rgba(0, 0, 0, 0.15);\n",
              "      filter: drop-shadow(0px 1px 2px rgba(0, 0, 0, 0.3));\n",
              "      fill: #FFFFFF;\n",
              "    }\n",
              "  </style>\n",
              "\n",
              "      <script>\n",
              "        const buttonEl =\n",
              "          document.querySelector('#df-53982a54-4649-450f-bd2a-e0883f51f0aa button.colab-df-convert');\n",
              "        buttonEl.style.display =\n",
              "          google.colab.kernel.accessAllowed ? 'block' : 'none';\n",
              "\n",
              "        async function convertToInteractive(key) {\n",
              "          const element = document.querySelector('#df-53982a54-4649-450f-bd2a-e0883f51f0aa');\n",
              "          const dataTable =\n",
              "            await google.colab.kernel.invokeFunction('convertToInteractive',\n",
              "                                                     [key], {});\n",
              "          if (!dataTable) return;\n",
              "\n",
              "          const docLinkHtml = 'Like what you see? Visit the ' +\n",
              "            '<a target=\"_blank\" href=https://colab.research.google.com/notebooks/data_table.ipynb>data table notebook</a>'\n",
              "            + ' to learn more about interactive tables.';\n",
              "          element.innerHTML = '';\n",
              "          dataTable['output_type'] = 'display_data';\n",
              "          await google.colab.output.renderOutput(dataTable, element);\n",
              "          const docLink = document.createElement('div');\n",
              "          docLink.innerHTML = docLinkHtml;\n",
              "          element.appendChild(docLink);\n",
              "        }\n",
              "      </script>\n",
              "    </div>\n",
              "  </div>\n",
              "  "
            ]
          },
          "metadata": {},
          "execution_count": 146
        }
      ]
    },
    {
      "cell_type": "code",
      "source": [
        "df.describe()"
      ],
      "metadata": {
        "colab": {
          "base_uri": "https://localhost:8080/",
          "height": 300
        },
        "id": "lrQD_OrRwBdw",
        "outputId": "37170faf-01dc-449f-da27-3b3f916caae1"
      },
      "execution_count": null,
      "outputs": [
        {
          "output_type": "execute_result",
          "data": {
            "text/plain": [
              "              Age  Sleep Duration  Quality of Sleep  Physical Activity Level  \\\n",
              "count  374.000000      374.000000        374.000000               374.000000   \n",
              "mean    42.184492        7.132086          7.312834                59.171123   \n",
              "std      8.673133        0.795657          1.196956                20.830804   \n",
              "min     27.000000        5.800000          4.000000                30.000000   \n",
              "25%     35.250000        6.400000          6.000000                45.000000   \n",
              "50%     43.000000        7.200000          7.000000                60.000000   \n",
              "75%     50.000000        7.800000          8.000000                75.000000   \n",
              "max     59.000000        8.500000          9.000000                90.000000   \n",
              "\n",
              "       Stress Level  Heart Rate   Daily Steps  \n",
              "count    374.000000  374.000000    374.000000  \n",
              "mean       5.385027   70.165775   6816.844920  \n",
              "std        1.774526    4.135676   1617.915679  \n",
              "min        3.000000   65.000000   3000.000000  \n",
              "25%        4.000000   68.000000   5600.000000  \n",
              "50%        5.000000   70.000000   7000.000000  \n",
              "75%        7.000000   72.000000   8000.000000  \n",
              "max        8.000000   86.000000  10000.000000  "
            ],
            "text/html": [
              "\n",
              "  <div id=\"df-85fcbb76-102a-4976-93c5-43b2935086a0\">\n",
              "    <div class=\"colab-df-container\">\n",
              "      <div>\n",
              "<style scoped>\n",
              "    .dataframe tbody tr th:only-of-type {\n",
              "        vertical-align: middle;\n",
              "    }\n",
              "\n",
              "    .dataframe tbody tr th {\n",
              "        vertical-align: top;\n",
              "    }\n",
              "\n",
              "    .dataframe thead th {\n",
              "        text-align: right;\n",
              "    }\n",
              "</style>\n",
              "<table border=\"1\" class=\"dataframe\">\n",
              "  <thead>\n",
              "    <tr style=\"text-align: right;\">\n",
              "      <th></th>\n",
              "      <th>Age</th>\n",
              "      <th>Sleep Duration</th>\n",
              "      <th>Quality of Sleep</th>\n",
              "      <th>Physical Activity Level</th>\n",
              "      <th>Stress Level</th>\n",
              "      <th>Heart Rate</th>\n",
              "      <th>Daily Steps</th>\n",
              "    </tr>\n",
              "  </thead>\n",
              "  <tbody>\n",
              "    <tr>\n",
              "      <th>count</th>\n",
              "      <td>374.000000</td>\n",
              "      <td>374.000000</td>\n",
              "      <td>374.000000</td>\n",
              "      <td>374.000000</td>\n",
              "      <td>374.000000</td>\n",
              "      <td>374.000000</td>\n",
              "      <td>374.000000</td>\n",
              "    </tr>\n",
              "    <tr>\n",
              "      <th>mean</th>\n",
              "      <td>42.184492</td>\n",
              "      <td>7.132086</td>\n",
              "      <td>7.312834</td>\n",
              "      <td>59.171123</td>\n",
              "      <td>5.385027</td>\n",
              "      <td>70.165775</td>\n",
              "      <td>6816.844920</td>\n",
              "    </tr>\n",
              "    <tr>\n",
              "      <th>std</th>\n",
              "      <td>8.673133</td>\n",
              "      <td>0.795657</td>\n",
              "      <td>1.196956</td>\n",
              "      <td>20.830804</td>\n",
              "      <td>1.774526</td>\n",
              "      <td>4.135676</td>\n",
              "      <td>1617.915679</td>\n",
              "    </tr>\n",
              "    <tr>\n",
              "      <th>min</th>\n",
              "      <td>27.000000</td>\n",
              "      <td>5.800000</td>\n",
              "      <td>4.000000</td>\n",
              "      <td>30.000000</td>\n",
              "      <td>3.000000</td>\n",
              "      <td>65.000000</td>\n",
              "      <td>3000.000000</td>\n",
              "    </tr>\n",
              "    <tr>\n",
              "      <th>25%</th>\n",
              "      <td>35.250000</td>\n",
              "      <td>6.400000</td>\n",
              "      <td>6.000000</td>\n",
              "      <td>45.000000</td>\n",
              "      <td>4.000000</td>\n",
              "      <td>68.000000</td>\n",
              "      <td>5600.000000</td>\n",
              "    </tr>\n",
              "    <tr>\n",
              "      <th>50%</th>\n",
              "      <td>43.000000</td>\n",
              "      <td>7.200000</td>\n",
              "      <td>7.000000</td>\n",
              "      <td>60.000000</td>\n",
              "      <td>5.000000</td>\n",
              "      <td>70.000000</td>\n",
              "      <td>7000.000000</td>\n",
              "    </tr>\n",
              "    <tr>\n",
              "      <th>75%</th>\n",
              "      <td>50.000000</td>\n",
              "      <td>7.800000</td>\n",
              "      <td>8.000000</td>\n",
              "      <td>75.000000</td>\n",
              "      <td>7.000000</td>\n",
              "      <td>72.000000</td>\n",
              "      <td>8000.000000</td>\n",
              "    </tr>\n",
              "    <tr>\n",
              "      <th>max</th>\n",
              "      <td>59.000000</td>\n",
              "      <td>8.500000</td>\n",
              "      <td>9.000000</td>\n",
              "      <td>90.000000</td>\n",
              "      <td>8.000000</td>\n",
              "      <td>86.000000</td>\n",
              "      <td>10000.000000</td>\n",
              "    </tr>\n",
              "  </tbody>\n",
              "</table>\n",
              "</div>\n",
              "      <button class=\"colab-df-convert\" onclick=\"convertToInteractive('df-85fcbb76-102a-4976-93c5-43b2935086a0')\"\n",
              "              title=\"Convert this dataframe to an interactive table.\"\n",
              "              style=\"display:none;\">\n",
              "        \n",
              "  <svg xmlns=\"http://www.w3.org/2000/svg\" height=\"24px\"viewBox=\"0 0 24 24\"\n",
              "       width=\"24px\">\n",
              "    <path d=\"M0 0h24v24H0V0z\" fill=\"none\"/>\n",
              "    <path d=\"M18.56 5.44l.94 2.06.94-2.06 2.06-.94-2.06-.94-.94-2.06-.94 2.06-2.06.94zm-11 1L8.5 8.5l.94-2.06 2.06-.94-2.06-.94L8.5 2.5l-.94 2.06-2.06.94zm10 10l.94 2.06.94-2.06 2.06-.94-2.06-.94-.94-2.06-.94 2.06-2.06.94z\"/><path d=\"M17.41 7.96l-1.37-1.37c-.4-.4-.92-.59-1.43-.59-.52 0-1.04.2-1.43.59L10.3 9.45l-7.72 7.72c-.78.78-.78 2.05 0 2.83L4 21.41c.39.39.9.59 1.41.59.51 0 1.02-.2 1.41-.59l7.78-7.78 2.81-2.81c.8-.78.8-2.07 0-2.86zM5.41 20L4 18.59l7.72-7.72 1.47 1.35L5.41 20z\"/>\n",
              "  </svg>\n",
              "      </button>\n",
              "      \n",
              "  <style>\n",
              "    .colab-df-container {\n",
              "      display:flex;\n",
              "      flex-wrap:wrap;\n",
              "      gap: 12px;\n",
              "    }\n",
              "\n",
              "    .colab-df-convert {\n",
              "      background-color: #E8F0FE;\n",
              "      border: none;\n",
              "      border-radius: 50%;\n",
              "      cursor: pointer;\n",
              "      display: none;\n",
              "      fill: #1967D2;\n",
              "      height: 32px;\n",
              "      padding: 0 0 0 0;\n",
              "      width: 32px;\n",
              "    }\n",
              "\n",
              "    .colab-df-convert:hover {\n",
              "      background-color: #E2EBFA;\n",
              "      box-shadow: 0px 1px 2px rgba(60, 64, 67, 0.3), 0px 1px 3px 1px rgba(60, 64, 67, 0.15);\n",
              "      fill: #174EA6;\n",
              "    }\n",
              "\n",
              "    [theme=dark] .colab-df-convert {\n",
              "      background-color: #3B4455;\n",
              "      fill: #D2E3FC;\n",
              "    }\n",
              "\n",
              "    [theme=dark] .colab-df-convert:hover {\n",
              "      background-color: #434B5C;\n",
              "      box-shadow: 0px 1px 3px 1px rgba(0, 0, 0, 0.15);\n",
              "      filter: drop-shadow(0px 1px 2px rgba(0, 0, 0, 0.3));\n",
              "      fill: #FFFFFF;\n",
              "    }\n",
              "  </style>\n",
              "\n",
              "      <script>\n",
              "        const buttonEl =\n",
              "          document.querySelector('#df-85fcbb76-102a-4976-93c5-43b2935086a0 button.colab-df-convert');\n",
              "        buttonEl.style.display =\n",
              "          google.colab.kernel.accessAllowed ? 'block' : 'none';\n",
              "\n",
              "        async function convertToInteractive(key) {\n",
              "          const element = document.querySelector('#df-85fcbb76-102a-4976-93c5-43b2935086a0');\n",
              "          const dataTable =\n",
              "            await google.colab.kernel.invokeFunction('convertToInteractive',\n",
              "                                                     [key], {});\n",
              "          if (!dataTable) return;\n",
              "\n",
              "          const docLinkHtml = 'Like what you see? Visit the ' +\n",
              "            '<a target=\"_blank\" href=https://colab.research.google.com/notebooks/data_table.ipynb>data table notebook</a>'\n",
              "            + ' to learn more about interactive tables.';\n",
              "          element.innerHTML = '';\n",
              "          dataTable['output_type'] = 'display_data';\n",
              "          await google.colab.output.renderOutput(dataTable, element);\n",
              "          const docLink = document.createElement('div');\n",
              "          docLink.innerHTML = docLinkHtml;\n",
              "          element.appendChild(docLink);\n",
              "        }\n",
              "      </script>\n",
              "    </div>\n",
              "  </div>\n",
              "  "
            ]
          },
          "metadata": {},
          "execution_count": 147
        }
      ]
    },
    {
      "cell_type": "markdown",
      "source": [
        "## Distribution for Categorical Data"
      ],
      "metadata": {
        "id": "j-fxPRoFxD3z"
      }
    },
    {
      "cell_type": "markdown",
      "source": [
        "These barcharts shows that this dataset contains data that are balance for some categories and imbalance data for other categories"
      ],
      "metadata": {
        "id": "Jw5pmRMEvmh0"
      }
    },
    {
      "cell_type": "code",
      "source": [
        "sns.set(rc={'figure.figsize':(2,3)})\n",
        "sns.set(font_scale=1)\n",
        "sns.countplot(x = df['Gender'])"
      ],
      "metadata": {
        "colab": {
          "base_uri": "https://localhost:8080/",
          "height": 336
        },
        "id": "U6IW4tOQuRBm",
        "outputId": "48e46c6a-b1f8-4e43-9653-a0748c5efbd9"
      },
      "execution_count": null,
      "outputs": [
        {
          "output_type": "execute_result",
          "data": {
            "text/plain": [
              "<Axes: xlabel='Gender', ylabel='count'>"
            ]
          },
          "metadata": {},
          "execution_count": 148
        },
        {
          "output_type": "display_data",
          "data": {
            "text/plain": [
              "<Figure size 200x300 with 1 Axes>"
            ],
            "image/png": "[encoded data removed]"
          },
          "metadata": {}
        }
      ]
    },
    {
      "cell_type": "code",
      "source": [
        "sns.set(rc={'figure.figsize':(4.5,4)})\n",
        "sns.countplot(x = df['Quality of Sleep'])"
      ],
      "metadata": {
        "colab": {
          "base_uri": "https://localhost:8080/",
          "height": 413
        },
        "id": "DszZZ6M8qqR2",
        "outputId": "7a471f2c-aa0c-4f70-c0ea-78248a6dbff8"
      },
      "execution_count": null,
      "outputs": [
        {
          "output_type": "execute_result",
          "data": {
            "text/plain": [
              "<Axes: xlabel='Quality of Sleep', ylabel='count'>"
            ]
          },
          "metadata": {},
          "execution_count": 149
        },
        {
          "output_type": "display_data",
          "data": {
            "text/plain": [
              "<Figure size 450x400 with 1 Axes>"
            ],
            "image/png": "[encoded data removed]"
          },
          "metadata": {}
        }
      ]
    },
    {
      "cell_type": "code",
      "source": [
        "sns.set(rc={'figure.figsize':(12,5)})\n",
        "sns.set(font_scale=0.7)\n",
        "sns.countplot(x = df['Occupation'])"
      ],
      "metadata": {
        "colab": {
          "base_uri": "https://localhost:8080/",
          "height": 457
        },
        "id": "gpw-hKPiseCU",
        "outputId": "5fc8c18d-c449-450d-cea5-bffe96d1fccf"
      },
      "execution_count": null,
      "outputs": [
        {
          "output_type": "execute_result",
          "data": {
            "text/plain": [
              "<Axes: xlabel='Occupation', ylabel='count'>"
            ]
          },
          "metadata": {},
          "execution_count": 150
        },
        {
          "output_type": "display_data",
          "data": {
            "text/plain": [
              "<Figure size 1200x500 with 1 Axes>"
            ],
            "image/png": "[encoded data removed]"
          },
          "metadata": {}
        }
      ]
    },
    {
      "cell_type": "code",
      "source": [
        "sns.set(rc={'figure.figsize':(4.5,4)})\n",
        "sns.set(font_scale=1)\n",
        "sns.countplot(x = df['BMI Category'])"
      ],
      "metadata": {
        "colab": {
          "base_uri": "https://localhost:8080/",
          "height": 413
        },
        "id": "Fs4VV2HptTmY",
        "outputId": "59a44b70-faa4-4885-cf8b-8f7c5223e2da"
      },
      "execution_count": null,
      "outputs": [
        {
          "output_type": "execute_result",
          "data": {
            "text/plain": [
              "<Axes: xlabel='BMI Category', ylabel='count'>"
            ]
          },
          "metadata": {},
          "execution_count": 151
        },
        {
          "output_type": "display_data",
          "data": {
            "text/plain": [
              "<Figure size 450x400 with 1 Axes>"
            ],
            "image/png": "[encoded data removed]"
          },
          "metadata": {}
        }
      ]
    },
    {
      "cell_type": "code",
      "source": [
        "sns.set(rc={'figure.figsize':(4,4)})\n",
        "sns.set(font_scale=1)\n",
        "sns.countplot(x = df['Stress Level'])"
      ],
      "metadata": {
        "colab": {
          "base_uri": "https://localhost:8080/",
          "height": 413
        },
        "id": "b6msNG2ZuA0U",
        "outputId": "37786ca1-d9cf-48c6-e005-599bab7b333a"
      },
      "execution_count": null,
      "outputs": [
        {
          "output_type": "execute_result",
          "data": {
            "text/plain": [
              "<Axes: xlabel='Stress Level', ylabel='count'>"
            ]
          },
          "metadata": {},
          "execution_count": 152
        },
        {
          "output_type": "display_data",
          "data": {
            "text/plain": [
              "<Figure size 400x400 with 1 Axes>"
            ],
            "image/png": "[encoded data removed]"
          },
          "metadata": {}
        }
      ]
    },
    {
      "cell_type": "code",
      "source": [
        "sns.set(rc={'figure.figsize':(4,4)})\n",
        "sns.set(font_scale=1)\n",
        "sns.countplot(x = df['Sleep Disorder'])"
      ],
      "metadata": {
        "colab": {
          "base_uri": "https://localhost:8080/",
          "height": 413
        },
        "id": "P-z-Yu56uwhv",
        "outputId": "1bef3b80-1767-421b-e219-9ffcd525de91"
      },
      "execution_count": null,
      "outputs": [
        {
          "output_type": "execute_result",
          "data": {
            "text/plain": [
              "<Axes: xlabel='Sleep Disorder', ylabel='count'>"
            ]
          },
          "metadata": {},
          "execution_count": 153
        },
        {
          "output_type": "display_data",
          "data": {
            "text/plain": [
              "<Figure size 400x400 with 1 Axes>"
            ],
            "image/png": "[encoded data removed]"
          },
          "metadata": {}
        }
      ]
    },
    {
      "cell_type": "markdown",
      "source": [
        "##Histogram of Numerical Values"
      ],
      "metadata": {
        "id": "QBemUVZZPqEP"
      }
    },
    {
      "cell_type": "code",
      "source": [
        "list_histogram = ['Age', 'Physical Activity Level', 'Heart Rate', 'Daily Steps']\n",
        "df_histogram = df[list_histogram]"
      ],
      "metadata": {
        "id": "Cuqlh5kDpq9R"
      },
      "execution_count": null,
      "outputs": []
    },
    {
      "cell_type": "code",
      "source": [
        "p = df_histogram.hist(figsize = (5,5))"
      ],
      "metadata": {
        "colab": {
          "base_uri": "https://localhost:8080/",
          "height": 472
        },
        "id": "miMNo3GTPi_h",
        "outputId": "6ed0dde9-8d19-4286-f311-d639e498ff94"
      },
      "execution_count": null,
      "outputs": [
        {
          "output_type": "display_data",
          "data": {
            "text/plain": [
              "<Figure size 500x500 with 4 Axes>"
            ],
            "image/png": "[encoded data removed]"
          },
          "metadata": {}
        }
      ]
    },
    {
      "cell_type": "markdown",
      "source": [
        "## Histogram of all Features compared with Sleep Disorders"
      ],
      "metadata": {
        "id": "QrLTRT3Fqxbp"
      }
    },
    {
      "cell_type": "code",
      "source": [
        "fig = plt.figure(figsize=(9,9))\n",
        "\n",
        "columns_to_plot=['Age','Sleep Duration', 'Quality of Sleep', 'Physical Activity Level', 'Stress Level', 'Heart Rate', 'Daily Steps']\n",
        "\n",
        "for i in range(len(columns_to_plot)):\n",
        "    plt.subplot(3,3,i+1)\n",
        "    plt.title(columns_to_plot[i])\n",
        "    sns.histplot(data=df,x=df[columns_to_plot[i]],hue='Sleep Disorder')\n",
        "    plt.legend(fontsize=7,labels=df['Sleep Disorder'].unique())\n",
        "plt.tight_layout()\n",
        "plt.show()"
      ],
      "metadata": {
        "colab": {
          "base_uri": "https://localhost:8080/",
          "height": 901
        },
        "id": "JKrWYcoOOWcy",
        "outputId": "d26ebf07-4830-41f0-acb9-0aed4cb8dcc5"
      },
      "execution_count": null,
      "outputs": [
        {
          "output_type": "display_data",
          "data": {
            "text/plain": [
              "<Figure size 900x900 with 7 Axes>"
            ],
            "image/png": "[encoded data removed]"
          },
          "metadata": {}
        }
      ]
    },
    {
      "cell_type": "markdown",
      "source": [
        "## Correlation Matrix for Quality of Sleep"
      ],
      "metadata": {
        "id": "ZFiOjoL6xaHq"
      }
    },
    {
      "cell_type": "markdown",
      "source": [
        "From this correlation matrix we can tell that Sleep Duration, Stress Level, and Heart Rate have a signficant impact towards Quality of Sleep.\n",
        "\n",
        "Sleep Duration (0.88 corerlation): Sleep quality is negatively impacted by insufficient or excessive sleep duration, leading to grogginess and energy issues.\n",
        "\n",
        "Stress Level (-0.9 correlation): It is common sense that people with a high stress level is most likely to have bad sleep quality.\n",
        "\n",
        "Heart Rate (-0.66 correlation): A person's heart rate lowers as they get more comfortable and deeper into their sleep."
      ],
      "metadata": {
        "id": "sG2rFlx2FXZ9"
      }
    },
    {
      "cell_type": "code",
      "source": [
        "plt.figure(figsize=(3,4))\n",
        "corr_matrix = df.corr()\n",
        "target_corr = corr_matrix['Quality of Sleep'].sort_values(ascending=True)\n",
        "df_filtered = pd.DataFrame({'Quality of Sleep': target_corr})\n",
        "sns.heatmap(df_filtered, annot=True)"
      ],
      "metadata": {
        "colab": {
          "base_uri": "https://localhost:8080/",
          "height": 396
        },
        "id": "vmtBg2YftsaD",
        "outputId": "a36e715f-c12d-466b-8d48-ebb1895f0c00"
      },
      "execution_count": null,
      "outputs": [
        {
          "output_type": "execute_result",
          "data": {
            "text/plain": [
              "<Axes: >"
            ]
          },
          "metadata": {},
          "execution_count": 157
        },
        {
          "output_type": "display_data",
          "data": {
            "text/plain": [
              "<Figure size 300x400 with 2 Axes>"
            ],
            "image/png": "[encoded data removed]"
          },
          "metadata": {}
        }
      ]
    },
    {
      "cell_type": "markdown",
      "source": [
        "# Data Pre-Processing"
      ],
      "metadata": {
        "id": "WNYbytTiw_bo"
      }
    },
    {
      "cell_type": "markdown",
      "source": [
        "## Data Upsampling"
      ],
      "metadata": {
        "id": "aMqgmFNTpeTS"
      }
    },
    {
      "cell_type": "code",
      "source": [
        "disorder_counts = df['Sleep Disorder'].value_counts()\n",
        "n = disorder_counts.max()\n",
        "\n",
        "for disorder in disorder_counts.index:\n",
        "  if disorder != 'None':\n",
        "    disorder_data = df[df['Sleep Disorder'] == disorder]\n",
        "    disorder_data_upsampled = disorder_data.sample(n-80, replace = True)\n",
        "    df = pd.concat([df, disorder_data_upsampled])\n",
        "\n",
        "df"
      ],
      "metadata": {
        "colab": {
          "base_uri": "https://localhost:8080/",
          "height": 554
        },
        "id": "FynoOJaOmsgE",
        "outputId": "b3f8c70f-aeb8-4558-8910-326a819102fd"
      },
      "execution_count": null,
      "outputs": [
        {
          "output_type": "execute_result",
          "data": {
            "text/plain": [
              "     Gender  Age            Occupation  Sleep Duration  Quality of Sleep  \\\n",
              "0      Male   27     Software Engineer             6.1                 6   \n",
              "1      Male   28                Doctor             6.2                 6   \n",
              "2      Male   28                Doctor             6.2                 6   \n",
              "3      Male   28  Sales Representative             5.9                 4   \n",
              "4      Male   28  Sales Representative             5.9                 4   \n",
              "..      ...  ...                   ...             ...               ...   \n",
              "239    Male   44           Salesperson             6.4                 6   \n",
              "194    Male   43           Salesperson             6.5                 6   \n",
              "177    Male   42           Salesperson             6.5                 6   \n",
              "229    Male   44           Salesperson             6.3                 6   \n",
              "309  Female   52            Accountant             6.6                 7   \n",
              "\n",
              "     Physical Activity Level  Stress Level BMI Category Blood Pressure  \\\n",
              "0                         42             6   Overweight         126/83   \n",
              "1                         60             8       Normal         125/80   \n",
              "2                         60             8       Normal         125/80   \n",
              "3                         30             8        Obese         140/90   \n",
              "4                         30             8        Obese         140/90   \n",
              "..                       ...           ...          ...            ...   \n",
              "239                       45             7   Overweight         130/85   \n",
              "194                       45             7   Overweight         130/85   \n",
              "177                       45             7   Overweight         130/85   \n",
              "229                       45             7   Overweight         130/85   \n",
              "309                       45             7   Overweight         130/85   \n",
              "\n",
              "     Heart Rate  Daily Steps Sleep Disorder  \n",
              "0            77         4200           None  \n",
              "1            75        10000           None  \n",
              "2            75        10000           None  \n",
              "3            85         3000    Sleep Apnea  \n",
              "4            85         3000    Sleep Apnea  \n",
              "..          ...          ...            ...  \n",
              "239          72         6000       Insomnia  \n",
              "194          72         6000       Insomnia  \n",
              "177          72         6000       Insomnia  \n",
              "229          72         6000       Insomnia  \n",
              "309          72         6000       Insomnia  \n",
              "\n",
              "[652 rows x 12 columns]"
            ],
            "text/html": [
              "\n",
              "  <div id=\"df-6d49bc5f-2895-40e7-a5d1-7d139c35e1bb\">\n",
              "    <div class=\"colab-df-container\">\n",
              "      <div>\n",
              "<style scoped>\n",
              "    .dataframe tbody tr th:only-of-type {\n",
              "        vertical-align: middle;\n",
              "    }\n",
              "\n",
              "    .dataframe tbody tr th {\n",
              "        vertical-align: top;\n",
              "    }\n",
              "\n",
              "    .dataframe thead th {\n",
              "        text-align: right;\n",
              "    }\n",
              "</style>\n",
              "<table border=\"1\" class=\"dataframe\">\n",
              "  <thead>\n",
              "    <tr style=\"text-align: right;\">\n",
              "      <th></th>\n",
              "      <th>Gender</th>\n",
              "      <th>Age</th>\n",
              "      <th>Occupation</th>\n",
              "      <th>Sleep Duration</th>\n",
              "      <th>Quality of Sleep</th>\n",
              "      <th>Physical Activity Level</th>\n",
              "      <th>Stress Level</th>\n",
              "      <th>BMI Category</th>\n",
              "      <th>Blood Pressure</th>\n",
              "      <th>Heart Rate</th>\n",
              "      <th>Daily Steps</th>\n",
              "      <th>Sleep Disorder</th>\n",
              "    </tr>\n",
              "  </thead>\n",
              "  <tbody>\n",
              "    <tr>\n",
              "      <th>0</th>\n",
              "      <td>Male</td>\n",
              "      <td>27</td>\n",
              "      <td>Software Engineer</td>\n",
              "      <td>6.1</td>\n",
              "      <td>6</td>\n",
              "      <td>42</td>\n",
              "      <td>6</td>\n",
              "      <td>Overweight</td>\n",
              "      <td>126/83</td>\n",
              "      <td>77</td>\n",
              "      <td>4200</td>\n",
              "      <td>None</td>\n",
              "    </tr>\n",
              "    <tr>\n",
              "      <th>1</th>\n",
              "      <td>Male</td>\n",
              "      <td>28</td>\n",
              "      <td>Doctor</td>\n",
              "      <td>6.2</td>\n",
              "      <td>6</td>\n",
              "      <td>60</td>\n",
              "      <td>8</td>\n",
              "      <td>Normal</td>\n",
              "      <td>125/80</td>\n",
              "      <td>75</td>\n",
              "      <td>10000</td>\n",
              "      <td>None</td>\n",
              "    </tr>\n",
              "    <tr>\n",
              "      <th>2</th>\n",
              "      <td>Male</td>\n",
              "      <td>28</td>\n",
              "      <td>Doctor</td>\n",
              "      <td>6.2</td>\n",
              "      <td>6</td>\n",
              "      <td>60</td>\n",
              "      <td>8</td>\n",
              "      <td>Normal</td>\n",
              "      <td>125/80</td>\n",
              "      <td>75</td>\n",
              "      <td>10000</td>\n",
              "      <td>None</td>\n",
              "    </tr>\n",
              "    <tr>\n",
              "      <th>3</th>\n",
              "      <td>Male</td>\n",
              "      <td>28</td>\n",
              "      <td>Sales Representative</td>\n",
              "      <td>5.9</td>\n",
              "      <td>4</td>\n",
              "      <td>30</td>\n",
              "      <td>8</td>\n",
              "      <td>Obese</td>\n",
              "      <td>140/90</td>\n",
              "      <td>85</td>\n",
              "      <td>3000</td>\n",
              "      <td>Sleep Apnea</td>\n",
              "    </tr>\n",
              "    <tr>\n",
              "      <th>4</th>\n",
              "      <td>Male</td>\n",
              "      <td>28</td>\n",
              "      <td>Sales Representative</td>\n",
              "      <td>5.9</td>\n",
              "      <td>4</td>\n",
              "      <td>30</td>\n",
              "      <td>8</td>\n",
              "      <td>Obese</td>\n",
              "      <td>140/90</td>\n",
              "      <td>85</td>\n",
              "      <td>3000</td>\n",
              "      <td>Sleep Apnea</td>\n",
              "    </tr>\n",
              "    <tr>\n",
              "      <th>...</th>\n",
              "      <td>...</td>\n",
              "      <td>...</td>\n",
              "      <td>...</td>\n",
              "      <td>...</td>\n",
              "      <td>...</td>\n",
              "      <td>...</td>\n",
              "      <td>...</td>\n",
              "      <td>...</td>\n",
              "      <td>...</td>\n",
              "      <td>...</td>\n",
              "      <td>...</td>\n",
              "      <td>...</td>\n",
              "    </tr>\n",
              "    <tr>\n",
              "      <th>239</th>\n",
              "      <td>Male</td>\n",
              "      <td>44</td>\n",
              "      <td>Salesperson</td>\n",
              "      <td>6.4</td>\n",
              "      <td>6</td>\n",
              "      <td>45</td>\n",
              "      <td>7</td>\n",
              "      <td>Overweight</td>\n",
              "      <td>130/85</td>\n",
              "      <td>72</td>\n",
              "      <td>6000</td>\n",
              "      <td>Insomnia</td>\n",
              "    </tr>\n",
              "    <tr>\n",
              "      <th>194</th>\n",
              "      <td>Male</td>\n",
              "      <td>43</td>\n",
              "      <td>Salesperson</td>\n",
              "      <td>6.5</td>\n",
              "      <td>6</td>\n",
              "      <td>45</td>\n",
              "      <td>7</td>\n",
              "      <td>Overweight</td>\n",
              "      <td>130/85</td>\n",
              "      <td>72</td>\n",
              "      <td>6000</td>\n",
              "      <td>Insomnia</td>\n",
              "    </tr>\n",
              "    <tr>\n",
              "      <th>177</th>\n",
              "      <td>Male</td>\n",
              "      <td>42</td>\n",
              "      <td>Salesperson</td>\n",
              "      <td>6.5</td>\n",
              "      <td>6</td>\n",
              "      <td>45</td>\n",
              "      <td>7</td>\n",
              "      <td>Overweight</td>\n",
              "      <td>130/85</td>\n",
              "      <td>72</td>\n",
              "      <td>6000</td>\n",
              "      <td>Insomnia</td>\n",
              "    </tr>\n",
              "    <tr>\n",
              "      <th>229</th>\n",
              "      <td>Male</td>\n",
              "      <td>44</td>\n",
              "      <td>Salesperson</td>\n",
              "      <td>6.3</td>\n",
              "      <td>6</td>\n",
              "      <td>45</td>\n",
              "      <td>7</td>\n",
              "      <td>Overweight</td>\n",
              "      <td>130/85</td>\n",
              "      <td>72</td>\n",
              "      <td>6000</td>\n",
              "      <td>Insomnia</td>\n",
              "    </tr>\n",
              "    <tr>\n",
              "      <th>309</th>\n",
              "      <td>Female</td>\n",
              "      <td>52</td>\n",
              "      <td>Accountant</td>\n",
              "      <td>6.6</td>\n",
              "      <td>7</td>\n",
              "      <td>45</td>\n",
              "      <td>7</td>\n",
              "      <td>Overweight</td>\n",
              "      <td>130/85</td>\n",
              "      <td>72</td>\n",
              "      <td>6000</td>\n",
              "      <td>Insomnia</td>\n",
              "    </tr>\n",
              "  </tbody>\n",
              "</table>\n",
              "<p>652 rows × 12 columns</p>\n",
              "</div>\n",
              "      <button class=\"colab-df-convert\" onclick=\"convertToInteractive('df-6d49bc5f-2895-40e7-a5d1-7d139c35e1bb')\"\n",
              "              title=\"Convert this dataframe to an interactive table.\"\n",
              "              style=\"display:none;\">\n",
              "        \n",
              "  <svg xmlns=\"http://www.w3.org/2000/svg\" height=\"24px\"viewBox=\"0 0 24 24\"\n",
              "       width=\"24px\">\n",
              "    <path d=\"M0 0h24v24H0V0z\" fill=\"none\"/>\n",
              "    <path d=\"M18.56 5.44l.94 2.06.94-2.06 2.06-.94-2.06-.94-.94-2.06-.94 2.06-2.06.94zm-11 1L8.5 8.5l.94-2.06 2.06-.94-2.06-.94L8.5 2.5l-.94 2.06-2.06.94zm10 10l.94 2.06.94-2.06 2.06-.94-2.06-.94-.94-2.06-.94 2.06-2.06.94z\"/><path d=\"M17.41 7.96l-1.37-1.37c-.4-.4-.92-.59-1.43-.59-.52 0-1.04.2-1.43.59L10.3 9.45l-7.72 7.72c-.78.78-.78 2.05 0 2.83L4 21.41c.39.39.9.59 1.41.59.51 0 1.02-.2 1.41-.59l7.78-7.78 2.81-2.81c.8-.78.8-2.07 0-2.86zM5.41 20L4 18.59l7.72-7.72 1.47 1.35L5.41 20z\"/>\n",
              "  </svg>\n",
              "      </button>\n",
              "      \n",
              "  <style>\n",
              "    .colab-df-container {\n",
              "      display:flex;\n",
              "      flex-wrap:wrap;\n",
              "      gap: 12px;\n",
              "    }\n",
              "\n",
              "    .colab-df-convert {\n",
              "      background-color: #E8F0FE;\n",
              "      border: none;\n",
              "      border-radius: 50%;\n",
              "      cursor: pointer;\n",
              "      display: none;\n",
              "      fill: #1967D2;\n",
              "      height: 32px;\n",
              "      padding: 0 0 0 0;\n",
              "      width: 32px;\n",
              "    }\n",
              "\n",
              "    .colab-df-convert:hover {\n",
              "      background-color: #E2EBFA;\n",
              "      box-shadow: 0px 1px 2px rgba(60, 64, 67, 0.3), 0px 1px 3px 1px rgba(60, 64, 67, 0.15);\n",
              "      fill: #174EA6;\n",
              "    }\n",
              "\n",
              "    [theme=dark] .colab-df-convert {\n",
              "      background-color: #3B4455;\n",
              "      fill: #D2E3FC;\n",
              "    }\n",
              "\n",
              "    [theme=dark] .colab-df-convert:hover {\n",
              "      background-color: #434B5C;\n",
              "      box-shadow: 0px 1px 3px 1px rgba(0, 0, 0, 0.15);\n",
              "      filter: drop-shadow(0px 1px 2px rgba(0, 0, 0, 0.3));\n",
              "      fill: #FFFFFF;\n",
              "    }\n",
              "  </style>\n",
              "\n",
              "      <script>\n",
              "        const buttonEl =\n",
              "          document.querySelector('#df-6d49bc5f-2895-40e7-a5d1-7d139c35e1bb button.colab-df-convert');\n",
              "        buttonEl.style.display =\n",
              "          google.colab.kernel.accessAllowed ? 'block' : 'none';\n",
              "\n",
              "        async function convertToInteractive(key) {\n",
              "          const element = document.querySelector('#df-6d49bc5f-2895-40e7-a5d1-7d139c35e1bb');\n",
              "          const dataTable =\n",
              "            await google.colab.kernel.invokeFunction('convertToInteractive',\n",
              "                                                     [key], {});\n",
              "          if (!dataTable) return;\n",
              "\n",
              "          const docLinkHtml = 'Like what you see? Visit the ' +\n",
              "            '<a target=\"_blank\" href=https://colab.research.google.com/notebooks/data_table.ipynb>data table notebook</a>'\n",
              "            + ' to learn more about interactive tables.';\n",
              "          element.innerHTML = '';\n",
              "          dataTable['output_type'] = 'display_data';\n",
              "          await google.colab.output.renderOutput(dataTable, element);\n",
              "          const docLink = document.createElement('div');\n",
              "          docLink.innerHTML = docLinkHtml;\n",
              "          element.appendChild(docLink);\n",
              "        }\n",
              "      </script>\n",
              "    </div>\n",
              "  </div>\n",
              "  "
            ]
          },
          "metadata": {},
          "execution_count": 158
        }
      ]
    },
    {
      "cell_type": "code",
      "source": [
        "sns.set(rc={'figure.figsize':(4,4)})\n",
        "sns.set(font_scale=1)\n",
        "sns.countplot(x = df['Sleep Disorder'])"
      ],
      "metadata": {
        "colab": {
          "base_uri": "https://localhost:8080/",
          "height": 413
        },
        "id": "KwqgPwhjnx81",
        "outputId": "66d46f3f-fa48-4c2c-dfc9-ff56bf10cb45"
      },
      "execution_count": null,
      "outputs": [
        {
          "output_type": "execute_result",
          "data": {
            "text/plain": [
              "<Axes: xlabel='Sleep Disorder', ylabel='count'>"
            ]
          },
          "metadata": {},
          "execution_count": 159
        },
        {
          "output_type": "display_data",
          "data": {
            "text/plain": [
              "<Figure size 400x400 with 1 Axes>"
            ],
            "image/png": "[encoded data removed]"
          },
          "metadata": {}
        }
      ]
    },
    {
      "cell_type": "markdown",
      "source": [
        "## Miscategorise Handling"
      ],
      "metadata": {
        "id": "bYh1LDlDy8F4"
      }
    },
    {
      "cell_type": "markdown",
      "source": [
        "Normal and Normal Weight is suppose to be in the same category"
      ],
      "metadata": {
        "id": "wfs-RdLvHfIF"
      }
    },
    {
      "cell_type": "code",
      "source": [
        "df['BMI Category'].value_counts()"
      ],
      "metadata": {
        "colab": {
          "base_uri": "https://localhost:8080/"
        },
        "id": "twtxwEt0zFii",
        "outputId": "cdbb5ccc-60dd-4ca7-d731-a244d04dab7e"
      },
      "execution_count": null,
      "outputs": [
        {
          "output_type": "execute_result",
          "data": {
            "text/plain": [
              "Overweight       385\n",
              "Normal           209\n",
              "Obese             33\n",
              "Normal Weight     25\n",
              "Name: BMI Category, dtype: int64"
            ]
          },
          "metadata": {},
          "execution_count": 160
        }
      ]
    },
    {
      "cell_type": "code",
      "source": [
        "for index, value in df['BMI Category'].iteritems():\n",
        "  if value == 'Normal Weight':\n",
        "    df.at[index, 'BMI Category'] = 'Normal'\n",
        "\n",
        "df['BMI Category'].value_counts()"
      ],
      "metadata": {
        "colab": {
          "base_uri": "https://localhost:8080/"
        },
        "id": "MUZOgranzWPh",
        "outputId": "fa43c324-b049-4e65-ad3c-46d26d60acc0"
      },
      "execution_count": null,
      "outputs": [
        {
          "output_type": "execute_result",
          "data": {
            "text/plain": [
              "Overweight    385\n",
              "Normal        234\n",
              "Obese          33\n",
              "Name: BMI Category, dtype: int64"
            ]
          },
          "metadata": {},
          "execution_count": 161
        }
      ]
    },
    {
      "cell_type": "markdown",
      "source": [
        "## Split Blood Pressure to Systolic and Disatolic"
      ],
      "metadata": {
        "id": "cxIAE9kyyMuw"
      }
    },
    {
      "cell_type": "markdown",
      "source": [
        "It is not efficient to have Blood Pressure as a string. Therefore, transforming it into an integer is a good idea. However, Blood Pressure is written as number1/number2. It is not ethical to divide both numbers because that is not how blood pressures works. Therefore, both of these numbers are split into two columns because each number symbolizes something. Number1 symbolizes Systolic and Number2 symbolizes Diastolic."
      ],
      "metadata": {
        "id": "lpaH5Wn3HmkI"
      }
    },
    {
      "cell_type": "code",
      "source": [
        "bp = df['Blood Pressure'].values.astype(str)\n",
        "Systolic, Diastolic = [], []\n",
        "for idx,val in enumerate(bp):\n",
        "    Systolic.append(int(str(val).split('/')[0]))\n",
        "    Diastolic.append(int(str(val).split('/')[1]))\n",
        "\n",
        "df = df.drop('Blood Pressure',axis=1)\n",
        "df.insert(7,'Systolic',Systolic)\n",
        "df.insert(8,'Diastolic',Diastolic)\n",
        "df.head()"
      ],
      "metadata": {
        "colab": {
          "base_uri": "https://localhost:8080/",
          "height": 337
        },
        "id": "MRO8yIHxw9y6",
        "outputId": "845d00b9-dbf8-4b61-eb60-0bf3379b4dc5"
      },
      "execution_count": null,
      "outputs": [
        {
          "output_type": "execute_result",
          "data": {
            "text/plain": [
              "  Gender  Age            Occupation  Sleep Duration  Quality of Sleep  \\\n",
              "0   Male   27     Software Engineer             6.1                 6   \n",
              "1   Male   28                Doctor             6.2                 6   \n",
              "2   Male   28                Doctor             6.2                 6   \n",
              "3   Male   28  Sales Representative             5.9                 4   \n",
              "4   Male   28  Sales Representative             5.9                 4   \n",
              "\n",
              "   Physical Activity Level  Stress Level  Systolic  Diastolic BMI Category  \\\n",
              "0                       42             6       126         83   Overweight   \n",
              "1                       60             8       125         80       Normal   \n",
              "2                       60             8       125         80       Normal   \n",
              "3                       30             8       140         90        Obese   \n",
              "4                       30             8       140         90        Obese   \n",
              "\n",
              "   Heart Rate  Daily Steps Sleep Disorder  \n",
              "0          77         4200           None  \n",
              "1          75        10000           None  \n",
              "2          75        10000           None  \n",
              "3          85         3000    Sleep Apnea  \n",
              "4          85         3000    Sleep Apnea  "
            ],
            "text/html": [
              "\n",
              "  <div id=\"df-3802c280-e232-415a-a1fd-a7bfc5700e1a\">\n",
              "    <div class=\"colab-df-container\">\n",
              "      <div>\n",
              "<style scoped>\n",
              "    .dataframe tbody tr th:only-of-type {\n",
              "        vertical-align: middle;\n",
              "    }\n",
              "\n",
              "    .dataframe tbody tr th {\n",
              "        vertical-align: top;\n",
              "    }\n",
              "\n",
              "    .dataframe thead th {\n",
              "        text-align: right;\n",
              "    }\n",
              "</style>\n",
              "<table border=\"1\" class=\"dataframe\">\n",
              "  <thead>\n",
              "    <tr style=\"text-align: right;\">\n",
              "      <th></th>\n",
              "      <th>Gender</th>\n",
              "      <th>Age</th>\n",
              "      <th>Occupation</th>\n",
              "      <th>Sleep Duration</th>\n",
              "      <th>Quality of Sleep</th>\n",
              "      <th>Physical Activity Level</th>\n",
              "      <th>Stress Level</th>\n",
              "      <th>Systolic</th>\n",
              "      <th>Diastolic</th>\n",
              "      <th>BMI Category</th>\n",
              "      <th>Heart Rate</th>\n",
              "      <th>Daily Steps</th>\n",
              "      <th>Sleep Disorder</th>\n",
              "    </tr>\n",
              "  </thead>\n",
              "  <tbody>\n",
              "    <tr>\n",
              "      <th>0</th>\n",
              "      <td>Male</td>\n",
              "      <td>27</td>\n",
              "      <td>Software Engineer</td>\n",
              "      <td>6.1</td>\n",
              "      <td>6</td>\n",
              "      <td>42</td>\n",
              "      <td>6</td>\n",
              "      <td>126</td>\n",
              "      <td>83</td>\n",
              "      <td>Overweight</td>\n",
              "      <td>77</td>\n",
              "      <td>4200</td>\n",
              "      <td>None</td>\n",
              "    </tr>\n",
              "    <tr>\n",
              "      <th>1</th>\n",
              "      <td>Male</td>\n",
              "      <td>28</td>\n",
              "      <td>Doctor</td>\n",
              "      <td>6.2</td>\n",
              "      <td>6</td>\n",
              "      <td>60</td>\n",
              "      <td>8</td>\n",
              "      <td>125</td>\n",
              "      <td>80</td>\n",
              "      <td>Normal</td>\n",
              "      <td>75</td>\n",
              "      <td>10000</td>\n",
              "      <td>None</td>\n",
              "    </tr>\n",
              "    <tr>\n",
              "      <th>2</th>\n",
              "      <td>Male</td>\n",
              "      <td>28</td>\n",
              "      <td>Doctor</td>\n",
              "      <td>6.2</td>\n",
              "      <td>6</td>\n",
              "      <td>60</td>\n",
              "      <td>8</td>\n",
              "      <td>125</td>\n",
              "      <td>80</td>\n",
              "      <td>Normal</td>\n",
              "      <td>75</td>\n",
              "      <td>10000</td>\n",
              "      <td>None</td>\n",
              "    </tr>\n",
              "    <tr>\n",
              "      <th>3</th>\n",
              "      <td>Male</td>\n",
              "      <td>28</td>\n",
              "      <td>Sales Representative</td>\n",
              "      <td>5.9</td>\n",
              "      <td>4</td>\n",
              "      <td>30</td>\n",
              "      <td>8</td>\n",
              "      <td>140</td>\n",
              "      <td>90</td>\n",
              "      <td>Obese</td>\n",
              "      <td>85</td>\n",
              "      <td>3000</td>\n",
              "      <td>Sleep Apnea</td>\n",
              "    </tr>\n",
              "    <tr>\n",
              "      <th>4</th>\n",
              "      <td>Male</td>\n",
              "      <td>28</td>\n",
              "      <td>Sales Representative</td>\n",
              "      <td>5.9</td>\n",
              "      <td>4</td>\n",
              "      <td>30</td>\n",
              "      <td>8</td>\n",
              "      <td>140</td>\n",
              "      <td>90</td>\n",
              "      <td>Obese</td>\n",
              "      <td>85</td>\n",
              "      <td>3000</td>\n",
              "      <td>Sleep Apnea</td>\n",
              "    </tr>\n",
              "  </tbody>\n",
              "</table>\n",
              "</div>\n",
              "      <button class=\"colab-df-convert\" onclick=\"convertToInteractive('df-3802c280-e232-415a-a1fd-a7bfc5700e1a')\"\n",
              "              title=\"Convert this dataframe to an interactive table.\"\n",
              "              style=\"display:none;\">\n",
              "        \n",
              "  <svg xmlns=\"http://www.w3.org/2000/svg\" height=\"24px\"viewBox=\"0 0 24 24\"\n",
              "       width=\"24px\">\n",
              "    <path d=\"M0 0h24v24H0V0z\" fill=\"none\"/>\n",
              "    <path d=\"M18.56 5.44l.94 2.06.94-2.06 2.06-.94-2.06-.94-.94-2.06-.94 2.06-2.06.94zm-11 1L8.5 8.5l.94-2.06 2.06-.94-2.06-.94L8.5 2.5l-.94 2.06-2.06.94zm10 10l.94 2.06.94-2.06 2.06-.94-2.06-.94-.94-2.06-.94 2.06-2.06.94z\"/><path d=\"M17.41 7.96l-1.37-1.37c-.4-.4-.92-.59-1.43-.59-.52 0-1.04.2-1.43.59L10.3 9.45l-7.72 7.72c-.78.78-.78 2.05 0 2.83L4 21.41c.39.39.9.59 1.41.59.51 0 1.02-.2 1.41-.59l7.78-7.78 2.81-2.81c.8-.78.8-2.07 0-2.86zM5.41 20L4 18.59l7.72-7.72 1.47 1.35L5.41 20z\"/>\n",
              "  </svg>\n",
              "      </button>\n",
              "      \n",
              "  <style>\n",
              "    .colab-df-container {\n",
              "      display:flex;\n",
              "      flex-wrap:wrap;\n",
              "      gap: 12px;\n",
              "    }\n",
              "\n",
              "    .colab-df-convert {\n",
              "      background-color: #E8F0FE;\n",
              "      border: none;\n",
              "      border-radius: 50%;\n",
              "      cursor: pointer;\n",
              "      display: none;\n",
              "      fill: #1967D2;\n",
              "      height: 32px;\n",
              "      padding: 0 0 0 0;\n",
              "      width: 32px;\n",
              "    }\n",
              "\n",
              "    .colab-df-convert:hover {\n",
              "      background-color: #E2EBFA;\n",
              "      box-shadow: 0px 1px 2px rgba(60, 64, 67, 0.3), 0px 1px 3px 1px rgba(60, 64, 67, 0.15);\n",
              "      fill: #174EA6;\n",
              "    }\n",
              "\n",
              "    [theme=dark] .colab-df-convert {\n",
              "      background-color: #3B4455;\n",
              "      fill: #D2E3FC;\n",
              "    }\n",
              "\n",
              "    [theme=dark] .colab-df-convert:hover {\n",
              "      background-color: #434B5C;\n",
              "      box-shadow: 0px 1px 3px 1px rgba(0, 0, 0, 0.15);\n",
              "      filter: drop-shadow(0px 1px 2px rgba(0, 0, 0, 0.3));\n",
              "      fill: #FFFFFF;\n",
              "    }\n",
              "  </style>\n",
              "\n",
              "      <script>\n",
              "        const buttonEl =\n",
              "          document.querySelector('#df-3802c280-e232-415a-a1fd-a7bfc5700e1a button.colab-df-convert');\n",
              "        buttonEl.style.display =\n",
              "          google.colab.kernel.accessAllowed ? 'block' : 'none';\n",
              "\n",
              "        async function convertToInteractive(key) {\n",
              "          const element = document.querySelector('#df-3802c280-e232-415a-a1fd-a7bfc5700e1a');\n",
              "          const dataTable =\n",
              "            await google.colab.kernel.invokeFunction('convertToInteractive',\n",
              "                                                     [key], {});\n",
              "          if (!dataTable) return;\n",
              "\n",
              "          const docLinkHtml = 'Like what you see? Visit the ' +\n",
              "            '<a target=\"_blank\" href=https://colab.research.google.com/notebooks/data_table.ipynb>data table notebook</a>'\n",
              "            + ' to learn more about interactive tables.';\n",
              "          element.innerHTML = '';\n",
              "          dataTable['output_type'] = 'display_data';\n",
              "          await google.colab.output.renderOutput(dataTable, element);\n",
              "          const docLink = document.createElement('div');\n",
              "          docLink.innerHTML = docLinkHtml;\n",
              "          element.appendChild(docLink);\n",
              "        }\n",
              "      </script>\n",
              "    </div>\n",
              "  </div>\n",
              "  "
            ]
          },
          "metadata": {},
          "execution_count": 162
        }
      ]
    },
    {
      "cell_type": "markdown",
      "source": [
        "## Non-numerical Data Encoding"
      ],
      "metadata": {
        "id": "nmeHXAXCyTP7"
      }
    },
    {
      "cell_type": "code",
      "source": [
        "label_encoder = LabelEncoder()\n",
        "\n",
        "def auto_encode(column_name, df):\n",
        "  column_name_encode = str(column_name + '_encoded')\n",
        "  df[column_name_encode] = label_encoder.fit_transform(df[column_name])\n",
        "\n",
        "column_to_encode = [\"Gender\", \"Occupation\", \"BMI Category\", \"Sleep Disorder\"]\n",
        "for column in column_to_encode:\n",
        "  auto_encode(column, df)\n",
        "  df = df.drop(column, axis=1)"
      ],
      "metadata": {
        "id": "f5HLAw7buFOi"
      },
      "execution_count": null,
      "outputs": []
    },
    {
      "cell_type": "code",
      "source": [
        "df.head()"
      ],
      "metadata": {
        "id": "PXIq52fBepTJ",
        "outputId": "edece343-6a48-4ee0-cf70-7e8c06be31df",
        "colab": {
          "base_uri": "https://localhost:8080/",
          "height": 305
        }
      },
      "execution_count": null,
      "outputs": [
        {
          "output_type": "execute_result",
          "data": {
            "text/plain": [
              "   Age  Sleep Duration  Quality of Sleep  Physical Activity Level  \\\n",
              "0   27             6.1                 6                       42   \n",
              "1   28             6.2                 6                       60   \n",
              "2   28             6.2                 6                       60   \n",
              "3   28             5.9                 4                       30   \n",
              "4   28             5.9                 4                       30   \n",
              "\n",
              "   Stress Level  Systolic  Diastolic  Heart Rate  Daily Steps  Gender_encoded  \\\n",
              "0             6       126         83          77         4200               1   \n",
              "1             8       125         80          75        10000               1   \n",
              "2             8       125         80          75        10000               1   \n",
              "3             8       140         90          85         3000               1   \n",
              "4             8       140         90          85         3000               1   \n",
              "\n",
              "   Occupation_encoded  BMI Category_encoded  Sleep Disorder_encoded  \n",
              "0                   9                     2                       1  \n",
              "1                   1                     0                       1  \n",
              "2                   1                     0                       1  \n",
              "3                   6                     1                       2  \n",
              "4                   6                     1                       2  "
            ],
            "text/html": [
              "\n",
              "  <div id=\"df-b6b7bead-f7dd-47b0-b852-ffde75b4eaaf\">\n",
              "    <div class=\"colab-df-container\">\n",
              "      <div>\n",
              "<style scoped>\n",
              "    .dataframe tbody tr th:only-of-type {\n",
              "        vertical-align: middle;\n",
              "    }\n",
              "\n",
              "    .dataframe tbody tr th {\n",
              "        vertical-align: top;\n",
              "    }\n",
              "\n",
              "    .dataframe thead th {\n",
              "        text-align: right;\n",
              "    }\n",
              "</style>\n",
              "<table border=\"1\" class=\"dataframe\">\n",
              "  <thead>\n",
              "    <tr style=\"text-align: right;\">\n",
              "      <th></th>\n",
              "      <th>Age</th>\n",
              "      <th>Sleep Duration</th>\n",
              "      <th>Quality of Sleep</th>\n",
              "      <th>Physical Activity Level</th>\n",
              "      <th>Stress Level</th>\n",
              "      <th>Systolic</th>\n",
              "      <th>Diastolic</th>\n",
              "      <th>Heart Rate</th>\n",
              "      <th>Daily Steps</th>\n",
              "      <th>Gender_encoded</th>\n",
              "      <th>Occupation_encoded</th>\n",
              "      <th>BMI Category_encoded</th>\n",
              "      <th>Sleep Disorder_encoded</th>\n",
              "    </tr>\n",
              "  </thead>\n",
              "  <tbody>\n",
              "    <tr>\n",
              "      <th>0</th>\n",
              "      <td>27</td>\n",
              "      <td>6.1</td>\n",
              "      <td>6</td>\n",
              "      <td>42</td>\n",
              "      <td>6</td>\n",
              "      <td>126</td>\n",
              "      <td>83</td>\n",
              "      <td>77</td>\n",
              "      <td>4200</td>\n",
              "      <td>1</td>\n",
              "      <td>9</td>\n",
              "      <td>2</td>\n",
              "      <td>1</td>\n",
              "    </tr>\n",
              "    <tr>\n",
              "      <th>1</th>\n",
              "      <td>28</td>\n",
              "      <td>6.2</td>\n",
              "      <td>6</td>\n",
              "      <td>60</td>\n",
              "      <td>8</td>\n",
              "      <td>125</td>\n",
              "      <td>80</td>\n",
              "      <td>75</td>\n",
              "      <td>10000</td>\n",
              "      <td>1</td>\n",
              "      <td>1</td>\n",
              "      <td>0</td>\n",
              "      <td>1</td>\n",
              "    </tr>\n",
              "    <tr>\n",
              "      <th>2</th>\n",
              "      <td>28</td>\n",
              "      <td>6.2</td>\n",
              "      <td>6</td>\n",
              "      <td>60</td>\n",
              "      <td>8</td>\n",
              "      <td>125</td>\n",
              "      <td>80</td>\n",
              "      <td>75</td>\n",
              "      <td>10000</td>\n",
              "      <td>1</td>\n",
              "      <td>1</td>\n",
              "      <td>0</td>\n",
              "      <td>1</td>\n",
              "    </tr>\n",
              "    <tr>\n",
              "      <th>3</th>\n",
              "      <td>28</td>\n",
              "      <td>5.9</td>\n",
              "      <td>4</td>\n",
              "      <td>30</td>\n",
              "      <td>8</td>\n",
              "      <td>140</td>\n",
              "      <td>90</td>\n",
              "      <td>85</td>\n",
              "      <td>3000</td>\n",
              "      <td>1</td>\n",
              "      <td>6</td>\n",
              "      <td>1</td>\n",
              "      <td>2</td>\n",
              "    </tr>\n",
              "    <tr>\n",
              "      <th>4</th>\n",
              "      <td>28</td>\n",
              "      <td>5.9</td>\n",
              "      <td>4</td>\n",
              "      <td>30</td>\n",
              "      <td>8</td>\n",
              "      <td>140</td>\n",
              "      <td>90</td>\n",
              "      <td>85</td>\n",
              "      <td>3000</td>\n",
              "      <td>1</td>\n",
              "      <td>6</td>\n",
              "      <td>1</td>\n",
              "      <td>2</td>\n",
              "    </tr>\n",
              "  </tbody>\n",
              "</table>\n",
              "</div>\n",
              "      <button class=\"colab-df-convert\" onclick=\"convertToInteractive('df-b6b7bead-f7dd-47b0-b852-ffde75b4eaaf')\"\n",
              "              title=\"Convert this dataframe to an interactive table.\"\n",
              "              style=\"display:none;\">\n",
              "        \n",
              "  <svg xmlns=\"http://www.w3.org/2000/svg\" height=\"24px\"viewBox=\"0 0 24 24\"\n",
              "       width=\"24px\">\n",
              "    <path d=\"M0 0h24v24H0V0z\" fill=\"none\"/>\n",
              "    <path d=\"M18.56 5.44l.94 2.06.94-2.06 2.06-.94-2.06-.94-.94-2.06-.94 2.06-2.06.94zm-11 1L8.5 8.5l.94-2.06 2.06-.94-2.06-.94L8.5 2.5l-.94 2.06-2.06.94zm10 10l.94 2.06.94-2.06 2.06-.94-2.06-.94-.94-2.06-.94 2.06-2.06.94z\"/><path d=\"M17.41 7.96l-1.37-1.37c-.4-.4-.92-.59-1.43-.59-.52 0-1.04.2-1.43.59L10.3 9.45l-7.72 7.72c-.78.78-.78 2.05 0 2.83L4 21.41c.39.39.9.59 1.41.59.51 0 1.02-.2 1.41-.59l7.78-7.78 2.81-2.81c.8-.78.8-2.07 0-2.86zM5.41 20L4 18.59l7.72-7.72 1.47 1.35L5.41 20z\"/>\n",
              "  </svg>\n",
              "      </button>\n",
              "      \n",
              "  <style>\n",
              "    .colab-df-container {\n",
              "      display:flex;\n",
              "      flex-wrap:wrap;\n",
              "      gap: 12px;\n",
              "    }\n",
              "\n",
              "    .colab-df-convert {\n",
              "      background-color: #E8F0FE;\n",
              "      border: none;\n",
              "      border-radius: 50%;\n",
              "      cursor: pointer;\n",
              "      display: none;\n",
              "      fill: #1967D2;\n",
              "      height: 32px;\n",
              "      padding: 0 0 0 0;\n",
              "      width: 32px;\n",
              "    }\n",
              "\n",
              "    .colab-df-convert:hover {\n",
              "      background-color: #E2EBFA;\n",
              "      box-shadow: 0px 1px 2px rgba(60, 64, 67, 0.3), 0px 1px 3px 1px rgba(60, 64, 67, 0.15);\n",
              "      fill: #174EA6;\n",
              "    }\n",
              "\n",
              "    [theme=dark] .colab-df-convert {\n",
              "      background-color: #3B4455;\n",
              "      fill: #D2E3FC;\n",
              "    }\n",
              "\n",
              "    [theme=dark] .colab-df-convert:hover {\n",
              "      background-color: #434B5C;\n",
              "      box-shadow: 0px 1px 3px 1px rgba(0, 0, 0, 0.15);\n",
              "      filter: drop-shadow(0px 1px 2px rgba(0, 0, 0, 0.3));\n",
              "      fill: #FFFFFF;\n",
              "    }\n",
              "  </style>\n",
              "\n",
              "      <script>\n",
              "        const buttonEl =\n",
              "          document.querySelector('#df-b6b7bead-f7dd-47b0-b852-ffde75b4eaaf button.colab-df-convert');\n",
              "        buttonEl.style.display =\n",
              "          google.colab.kernel.accessAllowed ? 'block' : 'none';\n",
              "\n",
              "        async function convertToInteractive(key) {\n",
              "          const element = document.querySelector('#df-b6b7bead-f7dd-47b0-b852-ffde75b4eaaf');\n",
              "          const dataTable =\n",
              "            await google.colab.kernel.invokeFunction('convertToInteractive',\n",
              "                                                     [key], {});\n",
              "          if (!dataTable) return;\n",
              "\n",
              "          const docLinkHtml = 'Like what you see? Visit the ' +\n",
              "            '<a target=\"_blank\" href=https://colab.research.google.com/notebooks/data_table.ipynb>data table notebook</a>'\n",
              "            + ' to learn more about interactive tables.';\n",
              "          element.innerHTML = '';\n",
              "          dataTable['output_type'] = 'display_data';\n",
              "          await google.colab.output.renderOutput(dataTable, element);\n",
              "          const docLink = document.createElement('div');\n",
              "          docLink.innerHTML = docLinkHtml;\n",
              "          element.appendChild(docLink);\n",
              "        }\n",
              "      </script>\n",
              "    </div>\n",
              "  </div>\n",
              "  "
            ]
          },
          "metadata": {},
          "execution_count": 164
        }
      ]
    },
    {
      "cell_type": "markdown",
      "source": [
        "## Data Splitting"
      ],
      "metadata": {
        "id": "NP3PTQujyeHy"
      }
    },
    {
      "cell_type": "code",
      "source": [
        "X = df.drop('Sleep Disorder_encoded', axis = 1)\n",
        "y = df['Sleep Disorder_encoded']\n",
        "\n",
        "X_train, X_test, y_train, y_test = train_test_split(X, y, test_size=0.2, random_state=42)"
      ],
      "metadata": {
        "id": "8rFENd8ik3tC"
      },
      "execution_count": null,
      "outputs": []
    },
    {
      "cell_type": "markdown",
      "source": [
        "# Modelling"
      ],
      "metadata": {
        "id": "NtfnJ0oSyjYG"
      }
    },
    {
      "cell_type": "code",
      "source": [
        "warnings.simplefilter(action='ignore', category=FutureWarning)"
      ],
      "metadata": {
        "id": "Wtx__oGLBMfJ"
      },
      "execution_count": null,
      "outputs": []
    },
    {
      "cell_type": "code",
      "source": [
        "metrics_df = pd.DataFrame(columns=['Model', 'Accuracy', 'Recall', 'F1-Score'])"
      ],
      "metadata": {
        "id": "DoOlGAvX75cs"
      },
      "execution_count": null,
      "outputs": []
    },
    {
      "cell_type": "code",
      "source": [
        "def insert_to_df(model, acc, recall, f1):\n",
        "  global metrics_df\n",
        "  if model not in list(metrics_df['Model']):\n",
        "    metrics_df = metrics_df.append({'Model': model, 'Accuracy': acc, 'Recall': recall, 'F1-Score': f1}, ignore_index=True)\n",
        "  else:\n",
        "    row_index = metrics_df[metrics_df['Model'] == model].index[0]\n",
        "    metrics_df.at[row_index, 'Accuracy'] = acc\n",
        "    metrics_df.at[row_index, 'Recall'] = recall\n",
        "    metrics_df.at[row_index, 'F1-Score'] = f1"
      ],
      "metadata": {
        "id": "MSIL5YhND4D5"
      },
      "execution_count": null,
      "outputs": []
    },
    {
      "cell_type": "markdown",
      "source": [
        "## Random Forest"
      ],
      "metadata": {
        "id": "-1FbWV4C1X14"
      }
    },
    {
      "cell_type": "code",
      "source": [
        "rf = RandomForestClassifier()\n",
        "rf.fit(X_train, y_train)\n",
        "y_pred = rf.predict(X_test)\n",
        "print(metrics.classification_report(y_test, y_pred))\n",
        "\n",
        "acc = round(accuracy_score(y_test, y_pred), 2)\n",
        "recall = round(recall_score(y_test, y_pred, average='macro'), 2)\n",
        "f1 = round(f1_score(y_test, y_pred, average='macro'), 2)\n",
        "rf_y_pred = y_pred\n",
        "\n",
        "insert_to_df('Random Forest', acc, recall, f1)"
      ],
      "metadata": {
        "colab": {
          "base_uri": "https://localhost:8080/"
        },
        "id": "jq8XHkh3lyMN",
        "outputId": "fe218e15-2f42-4bcf-fd4f-a48774a553ef"
      },
      "execution_count": null,
      "outputs": [
        {
          "output_type": "stream",
          "name": "stdout",
          "text": [
            "              precision    recall  f1-score   support\n",
            "\n",
            "           0       0.97      0.86      0.91        43\n",
            "           1       0.91      0.98      0.94        52\n",
            "           2       0.92      0.94      0.93        36\n",
            "\n",
            "    accuracy                           0.93       131\n",
            "   macro avg       0.93      0.93      0.93       131\n",
            "weighted avg       0.93      0.93      0.93       131\n",
            "\n"
          ]
        }
      ]
    },
    {
      "cell_type": "markdown",
      "source": [
        "## Decision Tree"
      ],
      "metadata": {
        "id": "5N_d6ego1agz"
      }
    },
    {
      "cell_type": "code",
      "source": [
        "dt = DecisionTreeClassifier()\n",
        "dt.fit(X_train, y_train)\n",
        "y_pred = dt.predict(X_test)\n",
        "print(metrics.classification_report(y_test, y_pred))\n",
        "\n",
        "acc = round(accuracy_score(y_test, y_pred), 2)\n",
        "recall = round(recall_score(y_test, y_pred, average='macro'), 2)\n",
        "f1 = round(f1_score(y_test, y_pred, average='macro'), 2)\n",
        "dt_y_pred = y_pred\n",
        "\n",
        "insert_to_df('Decision Tree', acc, recall, f1)"
      ],
      "metadata": {
        "colab": {
          "base_uri": "https://localhost:8080/"
        },
        "id": "ugSkdgtxrEYQ",
        "outputId": "d0e7f2b5-264f-4be0-db11-6ffe62222cb3"
      },
      "execution_count": null,
      "outputs": [
        {
          "output_type": "stream",
          "name": "stdout",
          "text": [
            "              precision    recall  f1-score   support\n",
            "\n",
            "           0       0.95      0.91      0.93        43\n",
            "           1       0.92      0.92      0.92        52\n",
            "           2       0.89      0.94      0.92        36\n",
            "\n",
            "    accuracy                           0.92       131\n",
            "   macro avg       0.92      0.92      0.92       131\n",
            "weighted avg       0.92      0.92      0.92       131\n",
            "\n"
          ]
        }
      ]
    },
    {
      "cell_type": "markdown",
      "source": [
        "## Gradient Boosting"
      ],
      "metadata": {
        "id": "-X5gUfw80GgS"
      }
    },
    {
      "cell_type": "code",
      "source": [
        "gb = GradientBoostingClassifier()\n",
        "gb.fit(X_train, y_train)\n",
        "y_pred = gb.predict(X_test)\n",
        "print(metrics.classification_report(y_test, y_pred))\n",
        "\n",
        "acc = round(accuracy_score(y_test, y_pred), 2)\n",
        "recall = round(recall_score(y_test, y_pred, average='macro'), 2)\n",
        "f1 = round(f1_score(y_test, y_pred, average='macro'), 2)\n",
        "\n",
        "insert_to_df('Gradient Boosting', acc, recall, f1)"
      ],
      "metadata": {
        "id": "YxjbsWm2rR93",
        "colab": {
          "base_uri": "https://localhost:8080/"
        },
        "outputId": "9c2d4207-09ef-431c-da49-7cf28bff393c"
      },
      "execution_count": null,
      "outputs": [
        {
          "output_type": "stream",
          "name": "stdout",
          "text": [
            "              precision    recall  f1-score   support\n",
            "\n",
            "           0       0.97      0.86      0.91        43\n",
            "           1       0.91      0.98      0.94        52\n",
            "           2       0.92      0.94      0.93        36\n",
            "\n",
            "    accuracy                           0.93       131\n",
            "   macro avg       0.93      0.93      0.93       131\n",
            "weighted avg       0.93      0.93      0.93       131\n",
            "\n"
          ]
        }
      ]
    },
    {
      "cell_type": "markdown",
      "source": [
        "## Support Vector Classifier"
      ],
      "metadata": {
        "id": "dQXq0fct1e2b"
      }
    },
    {
      "cell_type": "code",
      "source": [
        "svc = SVC()\n",
        "svc.fit(X_train, y_train)\n",
        "y_pred = svc.predict(X_test)\n",
        "print(metrics.classification_report(y_test, y_pred))\n",
        "\n",
        "acc = round(accuracy_score(y_test, y_pred), 2)\n",
        "recall = round(recall_score(y_test, y_pred, average='macro'), 2)\n",
        "f1 = round(f1_score(y_test, y_pred, average='macro'), 2)\n",
        "\n",
        "insert_to_df('SVC', acc, recall, f1)"
      ],
      "metadata": {
        "colab": {
          "base_uri": "https://localhost:8080/"
        },
        "id": "nnBFOE5PrbxT",
        "outputId": "7b40aada-2177-4e0a-daff-b1afb05c41dc"
      },
      "execution_count": null,
      "outputs": [
        {
          "output_type": "stream",
          "name": "stdout",
          "text": [
            "              precision    recall  f1-score   support\n",
            "\n",
            "           0       0.47      0.93      0.62        43\n",
            "           1       0.84      0.40      0.55        52\n",
            "           2       0.86      0.50      0.63        36\n",
            "\n",
            "    accuracy                           0.60       131\n",
            "   macro avg       0.72      0.61      0.60       131\n",
            "weighted avg       0.72      0.60      0.60       131\n",
            "\n"
          ]
        }
      ]
    },
    {
      "cell_type": "markdown",
      "source": [
        "## K-Nearest Neighbors"
      ],
      "metadata": {
        "id": "wBNMp2-o1g_w"
      }
    },
    {
      "cell_type": "code",
      "source": [
        "k_value = 3\n",
        "knn = KNeighborsClassifier(k_value)\n",
        "knn.fit(X_train, y_train)\n",
        "y_pred = knn.predict(X_test)\n",
        "print(metrics.classification_report(y_test, y_pred))\n",
        "\n",
        "acc = round(accuracy_score(y_test, y_pred), 2)\n",
        "recall = round(recall_score(y_test, y_pred, average='macro'), 2)\n",
        "f1 = round(f1_score(y_test, y_pred, average='macro'), 2)\n",
        "knn_y_pred = y_pred\n",
        "\n",
        "knn_string = \"KNN with K-Value \" + str(k_value)\n",
        "insert_to_df(knn_string , acc, recall, f1)"
      ],
      "metadata": {
        "colab": {
          "base_uri": "https://localhost:8080/"
        },
        "id": "nzElCQn-rldb",
        "outputId": "e49287b4-b996-4fdf-e9a6-1874f48622f5"
      },
      "execution_count": null,
      "outputs": [
        {
          "output_type": "stream",
          "name": "stdout",
          "text": [
            "              precision    recall  f1-score   support\n",
            "\n",
            "           0       0.86      0.88      0.87        43\n",
            "           1       0.91      0.83      0.87        52\n",
            "           2       0.85      0.94      0.89        36\n",
            "\n",
            "    accuracy                           0.88       131\n",
            "   macro avg       0.88      0.89      0.88       131\n",
            "weighted avg       0.88      0.88      0.88       131\n",
            "\n"
          ]
        }
      ]
    },
    {
      "cell_type": "markdown",
      "source": [
        "## Naive Bayes"
      ],
      "metadata": {
        "id": "bPwcX2P6z2Xb"
      }
    },
    {
      "cell_type": "code",
      "source": [
        "nb = GaussianNB()\n",
        "nb.fit(X_train, y_train)\n",
        "y_pred = nb.predict(X_test)\n",
        "print(metrics.classification_report(y_test, y_pred))\n",
        "\n",
        "acc = round(accuracy_score(y_test, y_pred), 2)\n",
        "recall = round(recall_score(y_test, y_pred, average='macro'), 2)\n",
        "f1 = round(f1_score(y_test, y_pred, average='macro'), 2)\n",
        "\n",
        "insert_to_df('Naive Bayes', acc, recall, f1)"
      ],
      "metadata": {
        "id": "QgUwRBuGrnFI",
        "colab": {
          "base_uri": "https://localhost:8080/"
        },
        "outputId": "cad6a5cd-2394-47df-ba45-148c39fb7ca3"
      },
      "execution_count": null,
      "outputs": [
        {
          "output_type": "stream",
          "name": "stdout",
          "text": [
            "              precision    recall  f1-score   support\n",
            "\n",
            "           0       0.85      0.91      0.88        43\n",
            "           1       0.91      0.92      0.91        52\n",
            "           2       0.97      0.86      0.91        36\n",
            "\n",
            "    accuracy                           0.90       131\n",
            "   macro avg       0.91      0.90      0.90       131\n",
            "weighted avg       0.90      0.90      0.90       131\n",
            "\n"
          ]
        }
      ]
    },
    {
      "cell_type": "markdown",
      "source": [
        "## XGBoost"
      ],
      "metadata": {
        "id": "rRocso8Ez5C6"
      }
    },
    {
      "cell_type": "code",
      "source": [
        "xgb = xgb.XGBClassifier()\n",
        "xgb.fit(X_train, y_train)\n",
        "y_pred = xgb.predict(X_test)\n",
        "print(metrics.classification_report(y_test, y_pred))\n",
        "\n",
        "acc = round(accuracy_score(y_test, y_pred), 2)\n",
        "recall = round(recall_score(y_test, y_pred, average='macro'), 2)\n",
        "f1 = round(f1_score(y_test, y_pred, average='macro'), 2)\n",
        "xgb_y_pred = y_pred\n",
        "\n",
        "insert_to_df('XGBoost', acc, recall, f1)"
      ],
      "metadata": {
        "id": "dsGLhtoSrnYm",
        "colab": {
          "base_uri": "https://localhost:8080/"
        },
        "outputId": "bc0bbd8d-e2b7-4628-8deb-a3635fc27644"
      },
      "execution_count": null,
      "outputs": [
        {
          "output_type": "stream",
          "name": "stdout",
          "text": [
            "              precision    recall  f1-score   support\n",
            "\n",
            "           0       0.97      0.86      0.91        43\n",
            "           1       0.91      0.98      0.94        52\n",
            "           2       0.92      0.94      0.93        36\n",
            "\n",
            "    accuracy                           0.93       131\n",
            "   macro avg       0.93      0.93      0.93       131\n",
            "weighted avg       0.93      0.93      0.93       131\n",
            "\n"
          ]
        }
      ]
    },
    {
      "cell_type": "markdown",
      "source": [
        "## LightGBM"
      ],
      "metadata": {
        "id": "CODZlKQIz78y"
      }
    },
    {
      "cell_type": "code",
      "source": [
        "lgb = lgb.LGBMClassifier()\n",
        "lgb.fit(X_train, y_train)\n",
        "y_pred = lgb.predict(X_test)\n",
        "print(metrics.classification_report(y_test, y_pred))\n",
        "\n",
        "acc = round(accuracy_score(y_test, y_pred), 2)\n",
        "recall = round(recall_score(y_test, y_pred, average='macro'), 2)\n",
        "f1 = round(f1_score(y_test, y_pred, average='macro'), 2)\n",
        "\n",
        "insert_to_df('LightGBM', acc, recall, f1)"
      ],
      "metadata": {
        "id": "fpkJyBLvrn2Z",
        "colab": {
          "base_uri": "https://localhost:8080/"
        },
        "outputId": "cfc0faed-e65b-4d0f-8bb8-800b1e62bfe9"
      },
      "execution_count": null,
      "outputs": [
        {
          "output_type": "stream",
          "name": "stdout",
          "text": [
            "              precision    recall  f1-score   support\n",
            "\n",
            "           0       0.97      0.86      0.91        43\n",
            "           1       0.91      0.98      0.94        52\n",
            "           2       0.92      0.94      0.93        36\n",
            "\n",
            "    accuracy                           0.93       131\n",
            "   macro avg       0.93      0.93      0.93       131\n",
            "weighted avg       0.93      0.93      0.93       131\n",
            "\n"
          ]
        }
      ]
    },
    {
      "cell_type": "markdown",
      "source": [
        "## Logistic Regression"
      ],
      "metadata": {
        "id": "3xL93KHtJH0w"
      }
    },
    {
      "cell_type": "code",
      "source": [
        "lr = LogisticRegression(max_iter=10000)\n",
        "lr.fit(X_train, y_train)\n",
        "y_pred = lr.predict(X_test)\n",
        "print(metrics.classification_report(y_test, y_pred))\n",
        "\n",
        "acc = round(accuracy_score(y_test, y_pred), 2)\n",
        "recall = round(recall_score(y_test, y_pred, average='macro'), 2)\n",
        "f1 = round(f1_score(y_test, y_pred, average='macro'), 2)\n",
        "lr_y_pred = y_pred\n",
        "\n",
        "insert_to_df('Logistic Regression', acc, recall, f1)"
      ],
      "metadata": {
        "colab": {
          "base_uri": "https://localhost:8080/"
        },
        "id": "Wjy4lDN-JHiY",
        "outputId": "04387e51-6aa2-45d3-d902-0a27033e4ac8"
      },
      "execution_count": null,
      "outputs": [
        {
          "output_type": "stream",
          "name": "stdout",
          "text": [
            "              precision    recall  f1-score   support\n",
            "\n",
            "           0       0.95      0.86      0.90        43\n",
            "           1       0.91      0.92      0.91        52\n",
            "           2       0.87      0.94      0.91        36\n",
            "\n",
            "    accuracy                           0.91       131\n",
            "   macro avg       0.91      0.91      0.91       131\n",
            "weighted avg       0.91      0.91      0.91       131\n",
            "\n"
          ]
        }
      ]
    },
    {
      "cell_type": "markdown",
      "source": [
        "## AdaBoost"
      ],
      "metadata": {
        "id": "sWwHLv9ez_GK"
      }
    },
    {
      "cell_type": "code",
      "source": [
        "base = DecisionTreeClassifier(max_depth=1)\n",
        "ada = AdaBoostClassifier(base_estimator=base)\n",
        "ada.fit(X_train, y_train)\n",
        "y_pred = ada.predict(X_test)\n",
        "print(metrics.classification_report(y_test, y_pred))\n",
        "\n",
        "acc = round(accuracy_score(y_test, y_pred), 2)\n",
        "recall = round(recall_score(y_test, y_pred, average='macro'), 2)\n",
        "f1 = round(f1_score(y_test, y_pred, average='macro'), 2)\n",
        "\n",
        "insert_to_df('AdaBoost', acc, recall, f1)"
      ],
      "metadata": {
        "id": "kvpBMiJZKNTp",
        "colab": {
          "base_uri": "https://localhost:8080/"
        },
        "outputId": "efe6f427-74a9-414d-a95f-4fe17ad95466"
      },
      "execution_count": null,
      "outputs": [
        {
          "output_type": "stream",
          "name": "stdout",
          "text": [
            "              precision    recall  f1-score   support\n",
            "\n",
            "           0       0.84      0.84      0.84        43\n",
            "           1       0.89      0.94      0.92        52\n",
            "           2       0.88      0.81      0.84        36\n",
            "\n",
            "    accuracy                           0.87       131\n",
            "   macro avg       0.87      0.86      0.86       131\n",
            "weighted avg       0.87      0.87      0.87       131\n",
            "\n"
          ]
        }
      ]
    },
    {
      "cell_type": "markdown",
      "source": [
        "# Evaluation"
      ],
      "metadata": {
        "id": "GxPSSkB01sju"
      }
    },
    {
      "cell_type": "code",
      "source": [
        "metrics_df.sort_values(by='Accuracy', ascending=False).reset_index(drop=True)"
      ],
      "metadata": {
        "colab": {
          "base_uri": "https://localhost:8080/",
          "height": 363
        },
        "id": "1SoaKi3HAUAH",
        "outputId": "4a954429-e133-4592-b5ad-b91f9b4ba59b"
      },
      "execution_count": null,
      "outputs": [
        {
          "output_type": "execute_result",
          "data": {
            "text/plain": [
              "                 Model  Accuracy  Recall  F1-Score\n",
              "0        Random Forest      0.93    0.93      0.93\n",
              "1    Gradient Boosting      0.93    0.93      0.93\n",
              "2              XGBoost      0.93    0.93      0.93\n",
              "3                 LGBM      0.93    0.93      0.93\n",
              "4        Decision Tree      0.92    0.92      0.92\n",
              "5  Logistic Regression      0.91    0.91      0.91\n",
              "6          Naive Bayes      0.90    0.90      0.90\n",
              "7   KNN with K-Value 3      0.88    0.89      0.88\n",
              "8             AdaBoost      0.87    0.86      0.86\n",
              "9                  SVC      0.60    0.61      0.60"
            ],
            "text/html": [
              "\n",
              "  <div id=\"df-9fdc468d-cb6f-4bc6-99c2-951daa3e1fef\">\n",
              "    <div class=\"colab-df-container\">\n",
              "      <div>\n",
              "<style scoped>\n",
              "    .dataframe tbody tr th:only-of-type {\n",
              "        vertical-align: middle;\n",
              "    }\n",
              "\n",
              "    .dataframe tbody tr th {\n",
              "        vertical-align: top;\n",
              "    }\n",
              "\n",
              "    .dataframe thead th {\n",
              "        text-align: right;\n",
              "    }\n",
              "</style>\n",
              "<table border=\"1\" class=\"dataframe\">\n",
              "  <thead>\n",
              "    <tr style=\"text-align: right;\">\n",
              "      <th></th>\n",
              "      <th>Model</th>\n",
              "      <th>Accuracy</th>\n",
              "      <th>Recall</th>\n",
              "      <th>F1-Score</th>\n",
              "    </tr>\n",
              "  </thead>\n",
              "  <tbody>\n",
              "    <tr>\n",
              "      <th>0</th>\n",
              "      <td>Random Forest</td>\n",
              "      <td>0.93</td>\n",
              "      <td>0.93</td>\n",
              "      <td>0.93</td>\n",
              "    </tr>\n",
              "    <tr>\n",
              "      <th>1</th>\n",
              "      <td>Gradient Boosting</td>\n",
              "      <td>0.93</td>\n",
              "      <td>0.93</td>\n",
              "      <td>0.93</td>\n",
              "    </tr>\n",
              "    <tr>\n",
              "      <th>2</th>\n",
              "      <td>XGBoost</td>\n",
              "      <td>0.93</td>\n",
              "      <td>0.93</td>\n",
              "      <td>0.93</td>\n",
              "    </tr>\n",
              "    <tr>\n",
              "      <th>3</th>\n",
              "      <td>LGBM</td>\n",
              "      <td>0.93</td>\n",
              "      <td>0.93</td>\n",
              "      <td>0.93</td>\n",
              "    </tr>\n",
              "    <tr>\n",
              "      <th>4</th>\n",
              "      <td>Decision Tree</td>\n",
              "      <td>0.92</td>\n",
              "      <td>0.92</td>\n",
              "      <td>0.92</td>\n",
              "    </tr>\n",
              "    <tr>\n",
              "      <th>5</th>\n",
              "      <td>Logistic Regression</td>\n",
              "      <td>0.91</td>\n",
              "      <td>0.91</td>\n",
              "      <td>0.91</td>\n",
              "    </tr>\n",
              "    <tr>\n",
              "      <th>6</th>\n",
              "      <td>Naive Bayes</td>\n",
              "      <td>0.90</td>\n",
              "      <td>0.90</td>\n",
              "      <td>0.90</td>\n",
              "    </tr>\n",
              "    <tr>\n",
              "      <th>7</th>\n",
              "      <td>KNN with K-Value 3</td>\n",
              "      <td>0.88</td>\n",
              "      <td>0.89</td>\n",
              "      <td>0.88</td>\n",
              "    </tr>\n",
              "    <tr>\n",
              "      <th>8</th>\n",
              "      <td>AdaBoost</td>\n",
              "      <td>0.87</td>\n",
              "      <td>0.86</td>\n",
              "      <td>0.86</td>\n",
              "    </tr>\n",
              "    <tr>\n",
              "      <th>9</th>\n",
              "      <td>SVC</td>\n",
              "      <td>0.60</td>\n",
              "      <td>0.61</td>\n",
              "      <td>0.60</td>\n",
              "    </tr>\n",
              "  </tbody>\n",
              "</table>\n",
              "</div>\n",
              "      <button class=\"colab-df-convert\" onclick=\"convertToInteractive('df-9fdc468d-cb6f-4bc6-99c2-951daa3e1fef')\"\n",
              "              title=\"Convert this dataframe to an interactive table.\"\n",
              "              style=\"display:none;\">\n",
              "        \n",
              "  <svg xmlns=\"http://www.w3.org/2000/svg\" height=\"24px\"viewBox=\"0 0 24 24\"\n",
              "       width=\"24px\">\n",
              "    <path d=\"M0 0h24v24H0V0z\" fill=\"none\"/>\n",
              "    <path d=\"M18.56 5.44l.94 2.06.94-2.06 2.06-.94-2.06-.94-.94-2.06-.94 2.06-2.06.94zm-11 1L8.5 8.5l.94-2.06 2.06-.94-2.06-.94L8.5 2.5l-.94 2.06-2.06.94zm10 10l.94 2.06.94-2.06 2.06-.94-2.06-.94-.94-2.06-.94 2.06-2.06.94z\"/><path d=\"M17.41 7.96l-1.37-1.37c-.4-.4-.92-.59-1.43-.59-.52 0-1.04.2-1.43.59L10.3 9.45l-7.72 7.72c-.78.78-.78 2.05 0 2.83L4 21.41c.39.39.9.59 1.41.59.51 0 1.02-.2 1.41-.59l7.78-7.78 2.81-2.81c.8-.78.8-2.07 0-2.86zM5.41 20L4 18.59l7.72-7.72 1.47 1.35L5.41 20z\"/>\n",
              "  </svg>\n",
              "      </button>\n",
              "      \n",
              "  <style>\n",
              "    .colab-df-container {\n",
              "      display:flex;\n",
              "      flex-wrap:wrap;\n",
              "      gap: 12px;\n",
              "    }\n",
              "\n",
              "    .colab-df-convert {\n",
              "      background-color: #E8F0FE;\n",
              "      border: none;\n",
              "      border-radius: 50%;\n",
              "      cursor: pointer;\n",
              "      display: none;\n",
              "      fill: #1967D2;\n",
              "      height: 32px;\n",
              "      padding: 0 0 0 0;\n",
              "      width: 32px;\n",
              "    }\n",
              "\n",
              "    .colab-df-convert:hover {\n",
              "      background-color: #E2EBFA;\n",
              "      box-shadow: 0px 1px 2px rgba(60, 64, 67, 0.3), 0px 1px 3px 1px rgba(60, 64, 67, 0.15);\n",
              "      fill: #174EA6;\n",
              "    }\n",
              "\n",
              "    [theme=dark] .colab-df-convert {\n",
              "      background-color: #3B4455;\n",
              "      fill: #D2E3FC;\n",
              "    }\n",
              "\n",
              "    [theme=dark] .colab-df-convert:hover {\n",
              "      background-color: #434B5C;\n",
              "      box-shadow: 0px 1px 3px 1px rgba(0, 0, 0, 0.15);\n",
              "      filter: drop-shadow(0px 1px 2px rgba(0, 0, 0, 0.3));\n",
              "      fill: #FFFFFF;\n",
              "    }\n",
              "  </style>\n",
              "\n",
              "      <script>\n",
              "        const buttonEl =\n",
              "          document.querySelector('#df-9fdc468d-cb6f-4bc6-99c2-951daa3e1fef button.colab-df-convert');\n",
              "        buttonEl.style.display =\n",
              "          google.colab.kernel.accessAllowed ? 'block' : 'none';\n",
              "\n",
              "        async function convertToInteractive(key) {\n",
              "          const element = document.querySelector('#df-9fdc468d-cb6f-4bc6-99c2-951daa3e1fef');\n",
              "          const dataTable =\n",
              "            await google.colab.kernel.invokeFunction('convertToInteractive',\n",
              "                                                     [key], {});\n",
              "          if (!dataTable) return;\n",
              "\n",
              "          const docLinkHtml = 'Like what you see? Visit the ' +\n",
              "            '<a target=\"_blank\" href=https://colab.research.google.com/notebooks/data_table.ipynb>data table notebook</a>'\n",
              "            + ' to learn more about interactive tables.';\n",
              "          element.innerHTML = '';\n",
              "          dataTable['output_type'] = 'display_data';\n",
              "          await google.colab.output.renderOutput(dataTable, element);\n",
              "          const docLink = document.createElement('div');\n",
              "          docLink.innerHTML = docLinkHtml;\n",
              "          element.appendChild(docLink);\n",
              "        }\n",
              "      </script>\n",
              "    </div>\n",
              "  </div>\n",
              "  "
            ]
          },
          "metadata": {},
          "execution_count": 179
        }
      ]
    },
    {
      "cell_type": "code",
      "source": [
        "confusion = confusion_matrix(y_test, rf_y_pred)\n",
        "plt.figure(figsize=(5, 4))\n",
        "sns.heatmap(confusion, annot=True, cmap='Blues')\n",
        "\n",
        "plt.title('Confusion Matrix for Random Forest')\n",
        "plt.xlabel('Predicted')\n",
        "plt.ylabel('Actual')\n",
        "plt.show()"
      ],
      "metadata": {
        "colab": {
          "base_uri": "https://localhost:8080/",
          "height": 419
        },
        "id": "IpJT8nqKD1Sz",
        "outputId": "dbaf6e5f-3130-4af1-add1-b5ccb7cded23"
      },
      "execution_count": null,
      "outputs": [
        {
          "output_type": "display_data",
          "data": {
            "text/plain": [
              "<Figure size 500x400 with 2 Axes>"
            ],
            "image/png": "[encoded data removed]"
          },
          "metadata": {}
        }
      ]
    }
  ]
}